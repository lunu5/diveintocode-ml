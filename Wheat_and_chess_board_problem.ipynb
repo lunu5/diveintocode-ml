{
  "nbformat": 4,
  "nbformat_minor": 0,
  "metadata": {
    "colab": {
      "name": "Wheat_and_chess_board_problem.ipynb",
      "provenance": [],
      "authorship_tag": "ABX9TyPqhgaDHifDuCBB4ZPGoSp9",
      "include_colab_link": true
    },
    "kernelspec": {
      "name": "python3",
      "display_name": "Python 3"
    }
  },
  "cells": [
    {
      "cell_type": "markdown",
      "metadata": {
        "id": "view-in-github",
        "colab_type": "text"
      },
      "source": [
        "<a href=\"https://colab.research.google.com/github/lunu5/diveintocode-ml/blob/master/Wheat_and_chess_board_problem.ipynb\" target=\"_parent\"><img src=\"https://colab.research.google.com/assets/colab-badge.svg\" alt=\"Open In Colab\"/></a>"
      ]
    },
    {
      "cell_type": "code",
      "metadata": {
        "colab": {
          "base_uri": "https://localhost:8080/"
        },
        "id": "WM1UQX0JKdgN",
        "outputId": "74f3a122-447c-49ff-e7b6-914fd16fef3c"
      },
      "source": [
        "n_squares = 4\r\n",
        "small_board_list = [1]\r\n",
        "for _ in range(n_squares - 1):\r\n",
        "    small_board_list.append(2*small_board_list[-1])\r\n",
        "print(\"Arrange wheat on a plate of 4 squares (list)：{}\".format(small_board_list))"
      ],
      "execution_count": 1,
      "outputs": [
        {
          "output_type": "stream",
          "text": [
            "Arrange wheat on a plate of 4 squares (list)：[1, 2, 4, 8]\n"
          ],
          "name": "stdout"
        }
      ]
    },
    {
      "cell_type": "code",
      "metadata": {
        "colab": {
          "base_uri": "https://localhost:8080/"
        },
        "id": "lgYuSqNVK3QR",
        "outputId": "4fc07c54-1b39-469b-e65e-e88c7793d700"
      },
      "source": [
        "import numpy as np\r\n",
        "small_board_ndarray = np.array(small_board_list)\r\n",
        "print(\"Arrange wheat on a plate of 4 squares (ndarray)：{}\".format(small_board_ndarray))"
      ],
      "execution_count": 2,
      "outputs": [
        {
          "output_type": "stream",
          "text": [
            "Arrange wheat on a plate of 4 squares (ndarray)：[1 2 4 8]\n"
          ],
          "name": "stdout"
        }
      ]
    },
    {
      "cell_type": "markdown",
      "metadata": {
        "id": "82x4UkZ0K5KZ"
      },
      "source": [
        "#[Problem 1] Number of wheat on a 2 x 2 square chess board"
      ]
    },
    {
      "cell_type": "code",
      "metadata": {
        "colab": {
          "base_uri": "https://localhost:8080/"
        },
        "id": "PCkyz9ZcLb1w",
        "outputId": "c53155bf-0bce-40f3-b0ce-77ddcccebdea"
      },
      "source": [
        "print(\"Arrange wheat on a 2 x 2 square chess board (ndarray)：\\n{}\".format(small_board_ndarray.reshape(2,2)))"
      ],
      "execution_count": 3,
      "outputs": [
        {
          "output_type": "stream",
          "text": [
            "Arrange wheat on a 2 x 2 square chess board (ndarray)：\n",
            "[[1 2]\n",
            " [4 8]]\n"
          ],
          "name": "stdout"
        }
      ]
    },
    {
      "cell_type": "markdown",
      "metadata": {
        "id": "60L9iBPBMUU8"
      },
      "source": [
        "#[Problem 2] Expansion to n × m mass"
      ]
    },
    {
      "cell_type": "code",
      "metadata": {
        "id": "k8bCoiccMWXx"
      },
      "source": [
        "def arrange_wheat_nxm(n, m):\r\n",
        "  board_list = [1]\r\n",
        "  for _ in range(n*m - 1):\r\n",
        "    board_list.append(2*board_list[-1])\r\n",
        "  return np.array(board_list).reshape(n, m).astype(np.uint64)"
      ],
      "execution_count": 4,
      "outputs": []
    },
    {
      "cell_type": "markdown",
      "metadata": {
        "id": "XbkUar6tOJ5y"
      },
      "source": [
        "##Result"
      ]
    },
    {
      "cell_type": "code",
      "metadata": {
        "colab": {
          "base_uri": "https://localhost:8080/"
        },
        "id": "QZrnJ0lZOIxp",
        "outputId": "e85c05b4-c85a-4af0-f834-84782fb6affc"
      },
      "source": [
        "wheat_list = arrange_wheat_nxm(8, 8)\r\n",
        "print(\"Arrange wheat on a 8 x 8 board：\\n{}\".format(wheat_list))"
      ],
      "execution_count": 5,
      "outputs": [
        {
          "output_type": "stream",
          "text": [
            "Arrange wheat on a 8 x 8 board：\n",
            "[[                  1                   2                   4\n",
            "                    8                  16                  32\n",
            "                   64                 128]\n",
            " [                256                 512                1024\n",
            "                 2048                4096                8192\n",
            "                16384               32768]\n",
            " [              65536              131072              262144\n",
            "               524288             1048576             2097152\n",
            "              4194304             8388608]\n",
            " [           16777216            33554432            67108864\n",
            "            134217728           268435456           536870912\n",
            "           1073741824          2147483648]\n",
            " [         4294967296          8589934592         17179869184\n",
            "          34359738368         68719476736        137438953472\n",
            "         274877906944        549755813888]\n",
            " [      1099511627776       2199023255552       4398046511104\n",
            "        8796093022208      17592186044416      35184372088832\n",
            "       70368744177664     140737488355328]\n",
            " [    281474976710656     562949953421312    1125899906842624\n",
            "     2251799813685248    4503599627370496    9007199254740992\n",
            "    18014398509481984   36028797018963968]\n",
            " [  72057594037927936  144115188075855872  288230376151711744\n",
            "   576460752303423488 1152921504606846976 2305843009213693952\n",
            "  4611686018427387904 9223372036854775808]]\n"
          ],
          "name": "stdout"
        }
      ]
    },
    {
      "cell_type": "markdown",
      "metadata": {
        "id": "ZDIU1XkyRoMd"
      },
      "source": [
        "#[Problem 3] Total number of wheat"
      ]
    },
    {
      "cell_type": "markdown",
      "metadata": {
        "id": "KOyPPoXkfMEd"
      },
      "source": [
        "##Sum"
      ]
    },
    {
      "cell_type": "code",
      "metadata": {
        "colab": {
          "base_uri": "https://localhost:8080/"
        },
        "id": "AuThDAIPfPEV",
        "outputId": "20d72338-e9fc-4ee6-9f69-8add346d59d9"
      },
      "source": [
        "print(\"Total wheat on a 8 x 8 chess board：\\n{}\".format(wheat_list.sum()))"
      ],
      "execution_count": 6,
      "outputs": [
        {
          "output_type": "stream",
          "text": [
            "Total wheat on a 8 x 8 chess board：\n",
            "18446744073709551615\n"
          ],
          "name": "stdout"
        }
      ]
    },
    {
      "cell_type": "markdown",
      "metadata": {
        "id": "Ycmmas0jgNgL"
      },
      "source": [
        "##Bar graph"
      ]
    },
    {
      "cell_type": "code",
      "metadata": {
        "colab": {
          "base_uri": "https://localhost:8080/",
          "height": 485
        },
        "id": "56Qsz8mkgPV7",
        "outputId": "801b5196-ccfe-4bc1-80e4-784dc201db89"
      },
      "source": [
        "import matplotlib.pyplot as plt\r\n",
        "%matplotlib inline\r\n",
        "\r\n",
        "wheat_per_column = wheat_list.sum(axis = 0)\r\n",
        "plt.figure(figsize=(20, 7))\r\n",
        "plt.xlabel(\"Column\", fontsize = 20)\r\n",
        "plt.ylabel(\"Number of wheat\", fontsize = 20)\r\n",
        "plt.title(\"Number of wheat in each column\", fontsize = 20)\r\n",
        "plt.tick_params(direction = 'out', length = 1, width = 1, pad = 10, labelsize = 20, colors = 'c')\r\n",
        "plt.bar(np.linspace(1, 8, 8), wheat_per_column)\r\n",
        "plt.show()"
      ],
      "execution_count": 7,
      "outputs": [
        {
          "output_type": "display_data",
          "data": {
            "image/png": "[encoded data removed]",
            "text/plain": [
              "<Figure size 1440x504 with 1 Axes>"
            ]
          },
          "metadata": {
            "tags": [],
            "needs_background": "dark"
          }
        }
      ]
    },
    {
      "cell_type": "markdown",
      "metadata": {
        "id": "Q_midGwwjxC2"
      },
      "source": [
        "#[Problem 4] Heat map of the number of wheat"
      ]
    },
    {
      "cell_type": "code",
      "metadata": {
        "colab": {
          "base_uri": "https://localhost:8080/",
          "height": 476
        },
        "id": "mtayCQafjyIU",
        "outputId": "320ab893-4d48-4bd8-8c4c-4dc13b57f468"
      },
      "source": [
        "plt.figure(figsize=(10, 7))\r\n",
        "plt.xlabel(\"Column\", fontsize = 20)\r\n",
        "plt.ylabel(\"Number of wheat\", fontsize = 20)\r\n",
        "plt.title(\"Heatmap\", fontsize = 20)\r\n",
        "plt.tick_params(direction = 'out', length = 1, width = 1, pad = 10, labelsize = 10, colors = 'c')\r\n",
        "plt.pcolor(wheat_per_column.reshape(4, 2))\r\n",
        "plt.show()"
      ],
      "execution_count": 8,
      "outputs": [
        {
          "output_type": "display_data",
          "data": {
            "image/png": "[encoded data removed]",
            "text/plain": [
              "<Figure size 720x504 with 1 Axes>"
            ]
          },
          "metadata": {
            "tags": [],
            "needs_background": "dark"
          }
        }
      ]
    },
    {
      "cell_type": "markdown",
      "metadata": {
        "id": "kl8_77vco0jp"
      },
      "source": [
        "#[Problem 5] How many times is the second half as long as the first half?"
      ]
    },
    {
      "cell_type": "code",
      "metadata": {
        "colab": {
          "base_uri": "https://localhost:8080/"
        },
        "id": "xOdAWvv-o1f_",
        "outputId": "5c6bf8d2-1eb1-438a-c278-91f59f248008"
      },
      "source": [
        "wheat_per_half = [wheat_per_column[:4].sum(), wheat_per_column[4:8].sum()]\r\n",
        "print(\"The number of wheat in the second half of the chessboard is {} times greater than in the first half\".format(wheat_per_half[1]/wheat_per_half[0]))"
      ],
      "execution_count": 9,
      "outputs": [
        {
          "output_type": "stream",
          "text": [
            "The number of wheat in the second half of the chessboard is 16.0 times greater than in the first half\n"
          ],
          "name": "stdout"
        }
      ]
    },
    {
      "cell_type": "markdown",
      "metadata": {
        "id": "AZCNsL5RwjPq"
      },
      "source": [
        "#[Problem 6] Expansion to n × m mass by another calculation method"
      ]
    },
    {
      "cell_type": "markdown",
      "metadata": {
        "id": "N7dptpkTxRK0"
      },
      "source": [
        "##Using ```np.append()```"
      ]
    },
    {
      "cell_type": "code",
      "metadata": {
        "colab": {
          "base_uri": "https://localhost:8080/"
        },
        "id": "aSNaJxUUyXZE",
        "outputId": "754cef28-94fb-490e-f884-e6edaa751f8f"
      },
      "source": [
        "def arrange_wheat_nxm_append(n, m):\r\n",
        "  small_board_ndarray = np.array([1])\r\n",
        "  for _ in range(n*m - 1):\r\n",
        "    small_board_ndarray = np.append(small_board_ndarray, 2*small_board_ndarray[-1]).astype(np.uint64)\r\n",
        "  return small_board_ndarray.reshape(n, m)\r\n",
        "\r\n",
        "print(\"Arrange wheat on a plate of 8 x 8 squares Using np.append()：\\n{}\".format(arrange_wheat_nxm_append(8, 8)))"
      ],
      "execution_count": 10,
      "outputs": [
        {
          "output_type": "stream",
          "text": [
            "Arrange wheat on a plate of 8 x 8 squares Using np.append()：\n",
            "[[                  1                   2                   4\n",
            "                    8                  16                  32\n",
            "                   64                 128]\n",
            " [                256                 512                1024\n",
            "                 2048                4096                8192\n",
            "                16384               32768]\n",
            " [              65536              131072              262144\n",
            "               524288             1048576             2097152\n",
            "              4194304             8388608]\n",
            " [           16777216            33554432            67108864\n",
            "            134217728           268435456           536870912\n",
            "           1073741824          2147483648]\n",
            " [         4294967296          8589934592         17179869184\n",
            "          34359738368         68719476736        137438953472\n",
            "         274877906944        549755813888]\n",
            " [      1099511627776       2199023255552       4398046511104\n",
            "        8796093022208      17592186044416      35184372088832\n",
            "       70368744177664     140737488355328]\n",
            " [    281474976710656     562949953421312    1125899906842624\n",
            "     2251799813685248    4503599627370496    9007199254740992\n",
            "    18014398509481984   36028797018963968]\n",
            " [  72057594037927936  144115188075855872  288230376151711744\n",
            "   576460752303423488 1152921504606846976 2305843009213693952\n",
            "  4611686018427387904 9223372036854775808]]\n"
          ],
          "name": "stdout"
        }
      ]
    },
    {
      "cell_type": "markdown",
      "metadata": {
        "id": "VrEG-nqa0B5U"
      },
      "source": [
        "##Using broadcast"
      ]
    },
    {
      "cell_type": "code",
      "metadata": {
        "colab": {
          "base_uri": "https://localhost:8080/"
        },
        "id": "9PzItO8kB751",
        "outputId": "37a7af82-78b6-4e17-966a-660bb9901d9f"
      },
      "source": [
        "def arrange_wheat_nxm_broadcast(n, m):\r\n",
        "  indices_of_squares = np.arange(n*m).astype(np.uint64)\r\n",
        "  small_board_ndarray = 2**indices_of_squares\r\n",
        "  return small_board_ndarray.reshape(n, m)\r\n",
        "\r\n",
        "print(\"Arrange wheat on a plate of 8 x 8 squares Using broadcast：\\n{}\".format(arrange_wheat_nxm_broadcast(8, 8)))"
      ],
      "execution_count": 11,
      "outputs": [
        {
          "output_type": "stream",
          "text": [
            "Arrange wheat on a plate of 8 x 8 squares Using broadcast：\n",
            "[[                  1                   2                   4\n",
            "                    8                  16                  32\n",
            "                   64                 128]\n",
            " [                256                 512                1024\n",
            "                 2048                4096                8192\n",
            "                16384               32768]\n",
            " [              65536              131072              262144\n",
            "               524288             1048576             2097152\n",
            "              4194304             8388608]\n",
            " [           16777216            33554432            67108864\n",
            "            134217728           268435456           536870912\n",
            "           1073741824          2147483648]\n",
            " [         4294967296          8589934592         17179869184\n",
            "          34359738368         68719476736        137438953472\n",
            "         274877906944        549755813888]\n",
            " [      1099511627776       2199023255552       4398046511104\n",
            "        8796093022208      17592186044416      35184372088832\n",
            "       70368744177664     140737488355328]\n",
            " [    281474976710656     562949953421312    1125899906842624\n",
            "     2251799813685248    4503599627370496    9007199254740992\n",
            "    18014398509481984   36028797018963968]\n",
            " [  72057594037927936  144115188075855872  288230376151711744\n",
            "   576460752303423488 1152921504606846976 2305843009213693952\n",
            "  4611686018427387904 9223372036854775808]]\n"
          ],
          "name": "stdout"
        }
      ]
    },
    {
      "cell_type": "markdown",
      "metadata": {
        "id": "l-joJGuhFkxz"
      },
      "source": [
        "#[Problem 7] Comparing calculation times"
      ]
    },
    {
      "cell_type": "markdown",
      "metadata": {
        "id": "ilO27VlfGEr-"
      },
      "source": [
        "##Using Python lists and for statements"
      ]
    },
    {
      "cell_type": "code",
      "metadata": {
        "colab": {
          "base_uri": "https://localhost:8080/"
        },
        "id": "zpdR56cmFmSQ",
        "outputId": "87d90ec9-faeb-4cdb-80a5-66a31f1beea1"
      },
      "source": [
        "%%timeit\r\n",
        "arrange_wheat_nxm(8, 8)"
      ],
      "execution_count": 12,
      "outputs": [
        {
          "output_type": "stream",
          "text": [
            "The slowest run took 4.22 times longer than the fastest. This could mean that an intermediate result is being cached.\n",
            "100000 loops, best of 5: 17.1 µs per loop\n"
          ],
          "name": "stdout"
        }
      ]
    },
    {
      "cell_type": "markdown",
      "metadata": {
        "id": "vI3pLURvGUy7"
      },
      "source": [
        "##Using ```np.append()```"
      ]
    },
    {
      "cell_type": "code",
      "metadata": {
        "colab": {
          "base_uri": "https://localhost:8080/"
        },
        "id": "GkIOGQYfGb8B",
        "outputId": "1df41ed3-4eb2-40e0-9e6d-64f764097118"
      },
      "source": [
        "%%timeit\r\n",
        "arrange_wheat_nxm_append(8, 8)"
      ],
      "execution_count": 13,
      "outputs": [
        {
          "output_type": "stream",
          "text": [
            "1000 loops, best of 5: 648 µs per loop\n"
          ],
          "name": "stdout"
        }
      ]
    },
    {
      "cell_type": "markdown",
      "metadata": {
        "id": "jvvC8rDqGh9Z"
      },
      "source": [
        "##Using broadcast"
      ]
    },
    {
      "cell_type": "code",
      "metadata": {
        "colab": {
          "base_uri": "https://localhost:8080/"
        },
        "id": "9UOGRn1AGi3p",
        "outputId": "55294dc5-b450-4bd9-fbbf-421c1d20d230"
      },
      "source": [
        "%%timeit\r\n",
        "arrange_wheat_nxm_broadcast(8, 8)"
      ],
      "execution_count": 14,
      "outputs": [
        {
          "output_type": "stream",
          "text": [
            "The slowest run took 16.18 times longer than the fastest. This could mean that an intermediate result is being cached.\n",
            "100000 loops, best of 5: 3.67 µs per loop\n"
          ],
          "name": "stdout"
        }
      ]
    },
    {
      "cell_type": "markdown",
      "metadata": {
        "id": "9Z_vgG4AHC_3"
      },
      "source": [
        "##Conclusion\r\n",
        "\r\n",
        "\r\n",
        "> According to the results from 3 differents methods above, it is cleared that the one using broadcast is the fastest while the one using ```np.append()``` is nearly 200 times slower.\r\n",
        "\r\n"
      ]
    }
  ]
}