{
  "nbformat": 4,
  "nbformat_minor": 0,
  "metadata": {
    "colab": {
      "name": "Utilization_of_Object-Oriented.ipynb",
      "provenance": [],
      "collapsed_sections": [],
      "authorship_tag": "ABX9TyPJxwUYNzJUR5qMwuvZ0WMS",
      "include_colab_link": true
    },
    "kernelspec": {
      "name": "python3",
      "display_name": "Python 3"
    },
    "language_info": {
      "name": "python"
    }
  },
  "cells": [
    {
      "cell_type": "markdown",
      "metadata": {
        "id": "view-in-github",
        "colab_type": "text"
      },
      "source": [
        "<a href=\"https://colab.research.google.com/github/lunu5/diveintocode-ml/blob/master/Utilization_of_Object_Oriented.ipynb\" target=\"_parent\"><img src=\"https://colab.research.google.com/assets/colab-badge.svg\" alt=\"Open In Colab\"/></a>"
      ]
    },
    {
      "cell_type": "code",
      "metadata": {
        "colab": {
          "base_uri": "https://localhost:8080/"
        },
        "id": "ScqdmiJLOmPw",
        "outputId": "e6346fb7-2e4f-4f21-ab71-ee9253c49482"
      },
      "source": [
        "import numpy as np\n",
        "from sklearn.preprocessing import StandardScaler\n",
        "from sklearn.datasets import load_iris\n",
        "data = load_iris()\n",
        "X = data.data[:10]\n",
        "scaler = StandardScaler()\n",
        "scaler.fit(X)\n",
        "print(\"Mean :\", scaler.mean_)\n",
        "print(\"Variance :\", scaler.var_)\n",
        "X_std = scaler.transform(X)"
      ],
      "execution_count": 1,
      "outputs": [
        {
          "output_type": "stream",
          "text": [
            "Mean : [4.86 3.31 1.45 0.22]\n",
            "Variance : [0.0764 0.0849 0.0105 0.0056]\n"
          ],
          "name": "stdout"
        }
      ]
    },
    {
      "cell_type": "markdown",
      "metadata": {
        "id": "WIVJzw5DPsbT"
      },
      "source": [
        "##Instantiation"
      ]
    },
    {
      "cell_type": "code",
      "metadata": {
        "id": "4vyNLhQeOnrs"
      },
      "source": [
        "scaler = StandardScaler()\n",
        "scaler0 = StandardScaler()\n",
        "scaler1 = StandardScaler()\n",
        "scaler2 = StandardScaler()"
      ],
      "execution_count": 2,
      "outputs": []
    },
    {
      "cell_type": "markdown",
      "metadata": {
        "id": "8Nx3VU4nMLCD"
      },
      "source": [
        "#[Problem 1] Enumeration of classes used so far"
      ]
    },
    {
      "cell_type": "markdown",
      "metadata": {
        "id": "W8RDh5y8JnCY"
      },
      "source": [
        "##Some class I have recently use\n",
        "\n",
        "\n",
        "*   RandomForestClassifier from sklearn\n",
        "*   DecisionTreeClassifier from sklearn\n",
        "*   LinearRegression from sklearn\n",
        "*   DataFrame from Pandas\n",
        "*   Axes from matplotlib\n",
        "\n"
      ]
    },
    {
      "cell_type": "markdown",
      "metadata": {
        "id": "nUSEfAmlPi1b"
      },
      "source": [
        "##Method"
      ]
    },
    {
      "cell_type": "code",
      "metadata": {
        "id": "BAIp1OuaPlwd",
        "colab": {
          "base_uri": "https://localhost:8080/"
        },
        "outputId": "a2849307-2c99-4cb3-deee-3fa4f4b5e3a7"
      },
      "source": [
        "scaler.fit(X)"
      ],
      "execution_count": 3,
      "outputs": [
        {
          "output_type": "execute_result",
          "data": {
            "text/plain": [
              "StandardScaler(copy=True, with_mean=True, with_std=True)"
            ]
          },
          "metadata": {
            "tags": []
          },
          "execution_count": 3
        }
      ]
    },
    {
      "cell_type": "markdown",
      "metadata": {
        "id": "ob0TkIfePfxr"
      },
      "source": [
        "##Instance variable (attribute)"
      ]
    },
    {
      "cell_type": "code",
      "metadata": {
        "colab": {
          "base_uri": "https://localhost:8080/"
        },
        "id": "N7gjG9B-OcDT",
        "outputId": "e7cef2de-4cfb-4a77-fc8e-a570857ca485"
      },
      "source": [
        "print(\"平均 : {}\".format(scaler.mean_)) # 平均 : [4.86 3.31 1.45 0.22]\n",
        "print(\"分散 : {}\".format(scaler.var_)) # 分散 : [0.0764 0.0849 0.0105 0.0056]"
      ],
      "execution_count": 4,
      "outputs": [
        {
          "output_type": "stream",
          "text": [
            "平均 : [4.86 3.31 1.45 0.22]\n",
            "分散 : [0.0764 0.0849 0.0105 0.0056]\n"
          ],
          "name": "stdout"
        }
      ]
    },
    {
      "cell_type": "markdown",
      "metadata": {
        "id": "QoDXb6j_Mt9W"
      },
      "source": [
        "#[Problem 2] Enumeration of methods and instance variables used so far"
      ]
    },
    {
      "cell_type": "markdown",
      "metadata": {
        "id": "t4FFMHf4M3V9"
      },
      "source": [
        "##Some method and instance variable were used in the previous assignments"
      ]
    },
    {
      "cell_type": "markdown",
      "metadata": {
        "id": "DxDHljJlNnx-"
      },
      "source": [
        "###Method\n",
        "\n",
        "*   `pandas.DataFrame.info` This method prints information about a DataFrame including the index dtype and columns, non-null values and memory usage.\n",
        "\n",
        "*   `pandas.DataFrame.nlargest` This method return the first n rows with the largest values in columns, in descending order. The columns that are not specified are returned as well, but not used for ordering.\n",
        "\n",
        "*   `pandas.DataFrame.isnull` This method return a boolean same-sized object indicating if the values are NA. NA values, such as None or numpy.NaN, gets mapped to True values. Everything else gets mapped to False values.\n",
        "\n",
        "*   `pandas.DataFrame.drop` This method remove rows or columns by specifying label names and corresponding axis, or by specifying directly index or column names. When using a multi-index, labels on different levels can be removed by specifying the level.\n",
        "\n",
        "*   `pandas.Series.corr` This method compute correlation with other Series, excluding missing values.\n",
        "\n",
        "\n",
        "###Instance variable\n",
        "\n",
        "\n",
        "*   `sklearn.datasets.load_irisload_iris().data`({ndarray, dataframe} of shape (150, 4)) The data matrix.\n",
        "\n",
        "*   `sklearn.datasets.load_irisload_iris().target`({ndarray, Series} of shape (150,)) The classification target\n",
        "\n",
        "*   `sklearn.datasets.load_irisload_iris().feature_names`(list) The names of the dataset columns.\n",
        "\n",
        "*   `pandas.DataFrame.index`(Index) The index (row labels) of the DataFrame.\n",
        "\n",
        "*   `pandas.DataFrame.columns`(Index) The column labels of the DataFrame.\n",
        "\n",
        "\n",
        "\n",
        "\n",
        "\n",
        "\n",
        "\n"
      ]
    },
    {
      "cell_type": "code",
      "metadata": {
        "id": "Z_efQWBWOwo7"
      },
      "source": [
        "l = ['a']\n",
        "l.append('b') # listのappendメソッド"
      ],
      "execution_count": 5,
      "outputs": []
    },
    {
      "cell_type": "code",
      "metadata": {
        "colab": {
          "base_uri": "https://localhost:8080/"
        },
        "id": "CZJLoGaiOyuP",
        "outputId": "15b82329-d44e-4029-b515-1c5588f3e7ed"
      },
      "source": [
        "s = 'Hello, World!'\n",
        "s.find('W') # strのfindメソッド"
      ],
      "execution_count": 6,
      "outputs": [
        {
          "output_type": "execute_result",
          "data": {
            "text/plain": [
              "7"
            ]
          },
          "metadata": {
            "tags": []
          },
          "execution_count": 6
        }
      ]
    },
    {
      "cell_type": "markdown",
      "metadata": {
        "id": "P4u1t1IzPa1b"
      },
      "source": [
        "##Method uses instance variable"
      ]
    },
    {
      "cell_type": "code",
      "metadata": {
        "id": "ZneQorBhO8Oo"
      },
      "source": [
        "X_std = scaler.transform(X)"
      ],
      "execution_count": 7,
      "outputs": []
    },
    {
      "cell_type": "markdown",
      "metadata": {
        "id": "uMiSLoCnM1zi"
      },
      "source": [
        "#[Problem 3] Creating a standardized class by scratch"
      ]
    },
    {
      "cell_type": "code",
      "metadata": {
        "id": "bqWffhptM9UL"
      },
      "source": [
        "class ScratchStandardScaler():\n",
        "    \"\"\"\n",
        "    Class for standardization\n",
        "\n",
        "    Attributes\n",
        "    ----------\n",
        "    mean_ : The following form ndarray, shape(n_features,)\n",
        "        Mean\n",
        "    var_ : The following form ndarray, shape(n_features,)\n",
        "        Variance\n",
        "    \"\"\"\n",
        "    def fit(self, X):\n",
        "        \"\"\"\n",
        "        Calculate the mean and standard deviation for standardization\n",
        "\n",
        "        Parameters\n",
        "        ----------\n",
        "        X : The following form ndarray, shape (n_samples, n_features)\n",
        "            Training data\n",
        "        \"\"\"\n",
        "        m = []\n",
        "        v = []\n",
        "        for i in range(X.shape[1]):\n",
        "          m.append(X[:, i].mean())\n",
        "          v.append(X[:, i].var())\n",
        "        self.mean_ = m\n",
        "        self.var_ = v\n",
        "\n",
        "    def transform(self, X):\n",
        "        \"\"\"\n",
        "        Standardize using the value obtained in fit()\n",
        "        Parameters\n",
        "        ----------\n",
        "        X : The following form ndarray, shape (n_samples, n_features)\n",
        "            Feature value\n",
        "\n",
        "        Returns\n",
        "        ----------\n",
        "        X_scaled : The following form ndarray, shape (n_samples, n_features)\n",
        "            Standardized special amount\n",
        "        \"\"\"\n",
        "        X_scaled = (X - self.mean_)/self.var_\n",
        "        return X_scaled"
      ],
      "execution_count": 8,
      "outputs": []
    },
    {
      "cell_type": "code",
      "metadata": {
        "colab": {
          "base_uri": "https://localhost:8080/"
        },
        "id": "S7KVGVBuPAKL",
        "outputId": "1ddc869d-3572-41d9-a61b-076c2ef3b763"
      },
      "source": [
        "import numpy as np\n",
        "from sklearn.datasets import load_iris\n",
        "data = load_iris()\n",
        "X = data.data[:10]\n",
        "scratch_scaler = ScratchStandardScaler()\n",
        "scratch_scaler.fit(X)\n",
        "print(\"平均 : {}\".format(scratch_scaler.mean_))\n",
        "print(\"分散 : {}\".format(scratch_scaler.var_))\n",
        "X_std = scratch_scaler.transform(X)\n",
        "print(X_std)"
      ],
      "execution_count": 9,
      "outputs": [
        {
          "output_type": "stream",
          "text": [
            "平均 : [4.859999999999999, 3.31, 1.45, 0.22000000000000003]\n",
            "分散 : [0.07640000000000002, 0.0849, 0.010499999999999999, 0.005599999999999999]\n",
            "[[  3.14136126   2.23792697  -4.76190476  -3.57142857]\n",
            " [  0.52356021  -3.65135453  -4.76190476  -3.57142857]\n",
            " [ -2.09424084  -1.29564193 -14.28571429  -3.57142857]\n",
            " [ -3.40314136  -2.47349823   4.76190476  -3.57142857]\n",
            " [  1.83246073   3.41578327  -4.76190476  -3.57142857]\n",
            " [  7.06806283   6.94935218  23.80952381  32.14285714]\n",
            " [ -3.40314136   1.06007067  -4.76190476  14.28571429]\n",
            " [  1.83246073   1.06007067   4.76190476  -3.57142857]\n",
            " [ -6.02094241  -4.82921084  -4.76190476  -3.57142857]\n",
            " [  0.52356021  -2.47349823   4.76190476 -21.42857143]]\n"
          ],
          "name": "stdout"
        }
      ]
    },
    {
      "cell_type": "markdown",
      "metadata": {
        "id": "QmIm9uVGPR8j"
      },
      "source": [
        "##Special methods"
      ]
    },
    {
      "cell_type": "code",
      "metadata": {
        "id": "niCLMSYkPKvs"
      },
      "source": [
        "def __init__(self, copy=True, with_mean=True, with_std=True):\n",
        "    self.with_mean = with_mean\n",
        "    self.with_std = with_std\n",
        "    self.copy = copy"
      ],
      "execution_count": 10,
      "outputs": []
    },
    {
      "cell_type": "code",
      "metadata": {
        "colab": {
          "base_uri": "https://localhost:8080/"
        },
        "id": "rN6PyQPyPN5L",
        "outputId": "691f6d9c-0cf9-4f11-dcd4-1f0d4077d005"
      },
      "source": [
        "class ExampleClass():\n",
        "    \"\"\"\n",
        "    説明用の簡単なクラス\n",
        "    Parameters\n",
        "    ----------\n",
        "    value : float or int\n",
        "        初期値\n",
        "    Attributes\n",
        "    ----------\n",
        "    value : float or int\n",
        "        計算結果\n",
        "    \"\"\"\n",
        "    def __init__(self, value):\n",
        "        self.value = value\n",
        "        print(\"初期値{}が設定されました\".format(self.value))\n",
        "    def add(self, value2):\n",
        "        \"\"\"\n",
        "        受け取った引数をself.valueに加える\n",
        "        \"\"\"\n",
        "        self.value += value2\n",
        "example = ExampleClass(5)\n",
        "print(\"value : {}\".format(example.value))\n",
        "example.add(3)\n",
        "print(\"value : {}\".format(example.value))"
      ],
      "execution_count": 11,
      "outputs": [
        {
          "output_type": "stream",
          "text": [
            "初期値5が設定されました\n",
            "value : 5\n",
            "value : 8\n"
          ],
          "name": "stdout"
        }
      ]
    },
    {
      "cell_type": "markdown",
      "metadata": {
        "id": "jqZgBG3IM9-w"
      },
      "source": [
        "#[Problem 4] Creating a class that performs 4 arithmetic operations"
      ]
    },
    {
      "cell_type": "code",
      "metadata": {
        "id": "WWAFl86rNGfm",
        "colab": {
          "base_uri": "https://localhost:8080/"
        },
        "outputId": "67032ec1-86aa-427e-9e6c-da84084a2c45"
      },
      "source": [
        "class ArithmeticOperations():\n",
        "    \"\"\"\n",
        "    Performs 4 simple arithmetic operations\n",
        "\n",
        "    Parameters\n",
        "    ----------\n",
        "    value : float or int\n",
        "        Initial value\n",
        "    Attributes\n",
        "    ----------\n",
        "    value : float or int\n",
        "        Calculation result\n",
        "    \"\"\"\n",
        "\n",
        "    def __init__(self, value):\n",
        "        if type(value) != int and type(value) != float:\n",
        "            self.value = 0\n",
        "            raise Exception(\"Non-numeric input, initial value set to 0.\")\n",
        "        else: \n",
        "            self.value = value\n",
        "            print(\"Initial value {} has been set\".format(self.value))\n",
        "        \n",
        "    def add(self, value2):\n",
        "        \"\"\"\n",
        "        Add the received argument to self.value\n",
        "        \"\"\"\n",
        "        self.value += value2\n",
        "        \n",
        "    def subtract(self, value2):\n",
        "        \"\"\"\n",
        "        Subtract the self.value by the received argument\n",
        "        \"\"\"\n",
        "        self.value -= value2\n",
        "\n",
        "    def multiply(self, value2):\n",
        "        \"\"\"\n",
        "        Multiply the received argument to self.value\n",
        "        \"\"\"\n",
        "        self.value *= value2\n",
        "\n",
        "    def divide(self, value2):\n",
        "        \"\"\"\n",
        "        Divide the received argument to self.value\n",
        "        \"\"\"\n",
        "        self.value /= value2\n",
        "result = ArithmeticOperations(6)\n",
        "print(\"Value : {}\".format(result.value))\n",
        "result.add(3)\n",
        "print(\"Value : {}\".format(result.value))\n",
        "result.subtract(1)\n",
        "print(\"Value : {}\".format(result.value))\n",
        "result.multiply(4)\n",
        "print(\"Value : {}\".format(result.value))\n",
        "result.divide(5)\n",
        "print(\"Value : {}\".format(result.value))"
      ],
      "execution_count": 12,
      "outputs": [
        {
          "output_type": "stream",
          "text": [
            "Initial value 6 has been set\n",
            "Value : 6\n",
            "Value : 9\n",
            "Value : 8\n",
            "Value : 32\n",
            "Value : 6.4\n"
          ],
          "name": "stdout"
        }
      ]
    }
  ]
}