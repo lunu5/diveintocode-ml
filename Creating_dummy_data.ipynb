{
  "nbformat": 4,
  "nbformat_minor": 0,
  "metadata": {
    "colab": {
      "name": "Creating dummy data.ipynb",
      "provenance": [],
      "authorship_tag": "ABX9TyNuiQvtgHPlJRZyVtI3RQKc",
      "include_colab_link": true
    },
    "kernelspec": {
      "name": "python3",
      "display_name": "Python 3"
    }
  },
  "cells": [
    {
      "cell_type": "markdown",
      "metadata": {
        "id": "view-in-github",
        "colab_type": "text"
      },
      "source": [
        "<a href=\"https://colab.research.google.com/github/lunu5/diveintocode-ml/blob/master/Creating_dummy_data.ipynb\" target=\"_parent\"><img src=\"https://colab.research.google.com/assets/colab-badge.svg\" alt=\"Open In Colab\"/></a>"
      ]
    },
    {
      "cell_type": "markdown",
      "metadata": {
        "id": "aW7XOlqbI-M2"
      },
      "source": [
        "#[Problem 1] Creating random numbers"
      ]
    },
    {
      "cell_type": "code",
      "metadata": {
        "id": "dEK7BwrcI63u",
        "colab": {
          "base_uri": "https://localhost:8080/"
        },
        "outputId": "2e3e1a34-515e-4194-eb4c-f67ad0f942e7"
      },
      "source": [
        "import numpy as np\r\n",
        "np.random.seed(0)\r\n",
        "mean = (-3, 0)\r\n",
        "cov = [[1.0, 0.8], [0.8, 1.0]]\r\n",
        "rand = np.random.multivariate_normal(mean, cov, 500)\r\n",
        "print(\"Created 500 random numbers：\\n{}\".format(rand))"
      ],
      "execution_count": 1,
      "outputs": [
        {
          "output_type": "stream",
          "text": [
            "Created 500 random numbers：\n",
            "[[-4.80006782e+00 -1.54698618e+00]\n",
            " [-4.63714503e+00 -2.19879728e-01]\n",
            " [-4.46267867e+00 -2.08076347e+00]\n",
            " [-3.85346966e+00 -9.49196365e-01]\n",
            " [-3.03192065e+00  2.27764648e-01]\n",
            " [-3.59653339e+00  3.23229932e-01]\n",
            " [-3.76046080e+00 -6.83506760e-01]\n",
            " [-3.52660272e+00 -3.15568548e-01]\n",
            " [-4.35253112e+00 -1.48228460e+00]\n",
            " [-3.02691331e+00 -5.67090887e-01]\n",
            " [-7.84713550e-01  2.62867115e+00]\n",
            " [-3.58538300e+00 -1.05476937e+00]\n",
            " [-4.69336749e+00 -2.61318911e+00]\n",
            " [-2.98421761e+00 -1.02603072e-01]\n",
            " [-4.91877408e+00 -9.89469999e-01]\n",
            " [-3.26658152e+00 -2.74105461e-02]\n",
            " [-1.53138965e+00  2.15844669e-01]\n",
            " [-2.71938344e+00  3.79500330e-01]\n",
            " [-4.54738211e+00 -7.86930327e-01]\n",
            " [-2.53695299e+00  2.71853959e-01]\n",
            " [-1.55620621e+00  5.45695585e-01]\n",
            " [-1.99817931e+00  2.23559938e+00]\n",
            " [-2.37797023e+00  3.44967255e-01]\n",
            " [-2.05735800e+00  1.43437007e+00]\n",
            " [-1.40164768e+00  1.46380355e+00]\n",
            " [-2.27283514e+00  9.71863483e-01]\n",
            " [-2.14205902e+00  1.11243624e-01]\n",
            " [-3.10871442e+00  1.62186440e-01]\n",
            " [-3.15875379e+00  3.25462346e-02]\n",
            " [-2.28352040e+00  4.87061947e-01]\n",
            " [-2.24834731e+00  5.24251302e-01]\n",
            " [-1.68268321e+00  2.25519806e-01]\n",
            " [-3.04126693e+00 -2.95375506e-01]\n",
            " [-1.59980265e+00  1.69288654e+00]\n",
            " [-2.15568777e+00  8.77165381e-01]\n",
            " [-3.73246402e+00 -6.50888061e-01]\n",
            " [-3.69044419e+00 -1.47141661e+00]\n",
            " [-3.16513883e+00 -5.98250760e-01]\n",
            " [-1.99084095e+00  6.43062375e-01]\n",
            " [-2.72219636e+00  3.13325724e-01]\n",
            " [-2.17950815e+00  1.39022454e+00]\n",
            " [-2.95596327e+00 -9.27569088e-01]\n",
            " [-5.01141280e+00 -8.12347201e-01]\n",
            " [-4.06139126e+00 -1.17518572e+00]\n",
            " [-2.31764179e+00  1.34925204e+00]\n",
            " [-3.00408384e+00  7.69058309e-01]\n",
            " [-3.50642737e+00  1.11253388e-01]\n",
            " [-3.56151690e+00 -1.14640794e-01]\n",
            " [-3.57470303e+00  5.54780642e-01]\n",
            " [-3.24751958e+00  6.72081570e-03]\n",
            " [-4.36031478e+00 -2.21271245e+00]\n",
            " [-2.10126226e+00  1.51183805e+00]\n",
            " [-2.50170440e+00  1.72754957e+00]\n",
            " [-2.37124062e+00  1.56027454e-01]\n",
            " [-5.29244287e+00 -1.35608310e+00]\n",
            " [-5.05823847e+00 -1.48520552e+00]\n",
            " [-2.78698515e+00  1.42104600e+00]\n",
            " [-2.99950867e+00  5.08009315e-01]\n",
            " [-3.84962363e+00 -9.47660616e-01]\n",
            " [-3.87419420e+00 -2.90939487e-01]\n",
            " [-3.00944756e+00 -7.04769670e-01]\n",
            " [-3.70237362e+00  1.36506474e-01]\n",
            " [-2.29375648e+00  6.11606331e-01]\n",
            " [-3.17196563e+00  9.97611444e-01]\n",
            " [-3.76664555e+00 -5.08944061e-01]\n",
            " [-2.44011905e+00  9.00932088e-01]\n",
            " [-2.37033757e+00  6.49793839e-01]\n",
            " [-2.61069044e+00  8.17123544e-01]\n",
            " [-3.48113223e+00 -6.12871928e-01]\n",
            " [-3.03002856e+00 -7.21341353e-01]\n",
            " [-1.72421668e+00  1.55367903e+00]\n",
            " [-3.35893493e+00  4.26942114e-02]\n",
            " [-5.55952028e+00 -1.96217901e+00]\n",
            " [-2.48725237e+00  1.21921076e+00]\n",
            " [-1.60565475e+00  1.10241351e+00]\n",
            " [-3.47706687e+00  6.06546212e-01]\n",
            " [-2.03212073e+00  4.45193648e-01]\n",
            " [-2.69678948e+00 -1.16409991e-01]\n",
            " [-3.72731635e+00 -1.41032501e+00]\n",
            " [-1.77296480e+00  9.50133491e-01]\n",
            " [-3.13769654e+00  1.08264668e+00]\n",
            " [-3.92838580e+00 -8.73013529e-01]\n",
            " [-2.10446081e+00  1.42956123e+00]\n",
            " [-1.56261289e+00  4.60388082e-01]\n",
            " [-4.22729008e+00 -1.02683797e+00]\n",
            " [-3.97439392e+00 -7.72812852e-01]\n",
            " [-3.60698852e+00 -1.01873326e+00]\n",
            " [-2.23437020e+00  1.19670802e+00]\n",
            " [-2.01976388e+00  5.44126544e-01]\n",
            " [-2.57337132e+00  4.37683473e-01]\n",
            " [-2.22937411e+00 -9.89696647e-02]\n",
            " [-1.68630816e+00 -9.25117827e-02]\n",
            " [-3.08653152e+00 -1.09976175e+00]\n",
            " [-1.96878602e+00  1.06420608e+00]\n",
            " [-2.78633300e+00  1.18955512e+00]\n",
            " [-1.85793714e+00  1.31096066e+00]\n",
            " [-2.59334945e+00 -3.32116644e-01]\n",
            " [-3.44217612e+00 -5.50671541e-01]\n",
            " [-3.99259968e+00 -4.71769927e-01]\n",
            " [-5.47487306e+00 -1.62957857e+00]\n",
            " [-2.57406501e+00  2.74538301e-01]\n",
            " [-4.25044128e+00 -8.36016106e-01]\n",
            " [-3.09595569e+00 -1.11860849e+00]\n",
            " [-2.74353635e+00 -2.10308078e-01]\n",
            " [-3.23452191e+00 -2.96597670e-01]\n",
            " [-3.96378474e+00 -7.63158321e-01]\n",
            " [-3.59848154e+00 -8.93470873e-01]\n",
            " [-1.97435051e+00  7.66311290e-01]\n",
            " [-3.10375132e+00  1.36045289e-01]\n",
            " [-5.13000578e+00 -2.15673155e+00]\n",
            " [-1.98370190e+00  7.97480012e-01]\n",
            " [-2.71245205e+00  5.92063569e-01]\n",
            " [-1.55827681e+00  1.48173359e+00]\n",
            " [-3.22189723e+00 -7.50530482e-02]\n",
            " [-2.35809876e+00  4.91426321e-01]\n",
            " [-1.49301576e+00  1.19498136e+00]\n",
            " [-2.61656296e+00  6.46570192e-01]\n",
            " [-2.15018557e+00  1.34388749e+00]\n",
            " [-3.76320579e+00 -2.07237927e+00]\n",
            " [-3.61844165e+00 -1.90327423e-01]\n",
            " [-2.26964576e+00  4.79097481e-01]\n",
            " [-2.77976867e+00  3.18918401e-02]\n",
            " [-2.17684562e+00 -2.36843497e-01]\n",
            " [-4.43460308e+00 -7.51792334e-01]\n",
            " [-1.76465082e+00  3.07900999e-01]\n",
            " [-3.31224540e+00 -6.76405689e-01]\n",
            " [-3.03368808e+00 -2.35649107e-01]\n",
            " [-3.87575023e+00 -4.36352293e-01]\n",
            " [-1.87417979e+00  2.50904021e-01]\n",
            " [-1.69131169e+00  1.69472613e+00]\n",
            " [-1.71187967e+00  9.67581518e-01]\n",
            " [-2.41766359e+00  5.49089930e-01]\n",
            " [-1.22278072e+00  1.89661335e+00]\n",
            " [-3.52496818e+00 -4.69045145e-01]\n",
            " [-2.73586812e+00  3.25733156e-01]\n",
            " [-2.50179779e+00 -1.25533942e+00]\n",
            " [-4.97889968e+00 -1.73218300e+00]\n",
            " [-2.25744056e+00  4.95298813e-01]\n",
            " [-3.43168929e+00 -5.05119867e-01]\n",
            " [-1.72637353e+00  2.57932640e+00]\n",
            " [-3.21773886e+00  4.27475013e-01]\n",
            " [-2.82930895e+00  1.14238122e+00]\n",
            " [-3.46418280e+00 -7.91161495e-02]\n",
            " [-2.39138336e+00  1.37461218e+00]\n",
            " [-4.06609890e+00 -2.42739047e-01]\n",
            " [-2.25202969e+00  4.43742046e-01]\n",
            " [-4.85048086e+00 -2.52089373e+00]\n",
            " [-3.23054341e+00  4.88489826e-01]\n",
            " [-3.27705618e+00  9.16360952e-02]\n",
            " [-2.73807132e+00  4.95972569e-01]\n",
            " [-2.28486676e+00  1.76382716e+00]\n",
            " [-2.67280851e+00 -1.02990978e-01]\n",
            " [-3.48649411e+00 -7.77878889e-01]\n",
            " [-1.30834180e+00  8.39919259e-01]\n",
            " [-3.60770945e+00 -7.08632554e-01]\n",
            " [-3.21397208e+00  4.67652953e-01]\n",
            " [-1.69993858e+00  8.37940231e-01]\n",
            " [-2.66470755e+00  3.94965639e-01]\n",
            " [-2.86927095e+00 -5.07143445e-02]\n",
            " [-2.90760315e+00  2.45310306e-02]\n",
            " [-2.06023238e+00  4.25585708e-01]\n",
            " [-2.97869700e+00 -5.42161170e-01]\n",
            " [-1.80328091e+00  9.99208123e-01]\n",
            " [-3.56406257e+00  8.63214695e-01]\n",
            " [-2.62974785e+00  9.66822614e-01]\n",
            " [-3.33286769e+00 -1.08482250e+00]\n",
            " [-3.35919625e+00 -1.10794811e+00]\n",
            " [-6.69022780e-01  2.71444736e+00]\n",
            " [-1.47681393e+00  1.80838207e+00]\n",
            " [-2.87588633e+00  1.17370576e+00]\n",
            " [-3.87030384e+00 -1.15705020e+00]\n",
            " [-1.96353496e+00  2.68615068e-01]\n",
            " [-2.49304787e+00  3.29639745e-01]\n",
            " [-2.70357544e+00  3.95532785e-01]\n",
            " [-3.65940413e+00 -4.38263235e-01]\n",
            " [-1.82039984e+00  2.70260992e-01]\n",
            " [-4.07648560e+00 -1.51253155e+00]\n",
            " [-2.21636542e+00  4.54005512e-01]\n",
            " [-1.10036205e+00  1.59734065e+00]\n",
            " [-2.74113306e+00  6.51215978e-01]\n",
            " [-3.66380709e+00 -6.61422172e-01]\n",
            " [-3.99153536e+00 -7.76522621e-01]\n",
            " [-3.03601260e+00  6.57673125e-02]\n",
            " [-2.69426784e+00  5.60074053e-02]\n",
            " [-2.38929716e+00 -1.02714169e-01]\n",
            " [-2.95199710e+00 -5.80103623e-01]\n",
            " [-3.71955579e+00 -8.77327253e-01]\n",
            " [-3.20311996e+00  1.09209838e-01]\n",
            " [-3.11362696e+00 -1.10697642e+00]\n",
            " [-3.08205095e+00  4.74623073e-01]\n",
            " [-1.51150421e+00  1.73343347e+00]\n",
            " [-5.36838833e-01  1.81647106e+00]\n",
            " [-2.51274884e+00 -5.60547475e-01]\n",
            " [-1.59962733e+00  4.69502481e-01]\n",
            " [-4.61549146e+00 -1.51162471e+00]\n",
            " [-3.46776276e+00 -6.08594861e-01]\n",
            " [-2.15353118e+00 -1.75879224e-01]\n",
            " [-2.48233379e+00  3.60562508e-02]\n",
            " [-4.17474619e+00 -4.53050004e-01]\n",
            " [-4.66091933e+00 -1.12171814e+00]\n",
            " [-2.07918940e+00  2.15055380e-01]\n",
            " [-3.83999024e+00 -6.14650874e-01]\n",
            " [-1.43463032e+00  1.79019610e+00]\n",
            " [-3.79135526e+00 -7.54087444e-01]\n",
            " [-2.56904180e+00 -7.98435500e-02]\n",
            " [-1.88077312e+00  1.62537974e+00]\n",
            " [-2.63291965e+00  2.19423070e-01]\n",
            " [-4.86026191e+00 -1.42734539e+00]\n",
            " [-3.39671937e+00 -3.06871598e-01]\n",
            " [-4.98577562e+00 -8.98211852e-01]\n",
            " [-4.06592156e+00 -6.97690393e-01]\n",
            " [-1.05200935e+00  2.02623925e+00]\n",
            " [-2.90628033e+00  1.53140914e-01]\n",
            " [-3.02829008e+00 -1.76101406e+00]\n",
            " [-2.54525441e+00  6.25448088e-01]\n",
            " [-2.10904637e+00 -5.17648250e-03]\n",
            " [-3.91192573e+00 -7.36816562e-01]\n",
            " [-2.17828325e+00  1.02082463e+00]\n",
            " [-3.78109832e+00 -7.77750961e-01]\n",
            " [-3.78423050e+00 -7.34734418e-01]\n",
            " [-2.25841191e+00  8.30617497e-03]\n",
            " [-2.97991974e+00  1.42961905e-01]\n",
            " [-3.79448774e+00 -8.67288090e-01]\n",
            " [-3.12890544e+00 -7.38979648e-01]\n",
            " [-2.22262463e+00  7.07559047e-01]\n",
            " [-2.25887673e+00  1.25989355e+00]\n",
            " [-3.52762184e+00 -3.51106178e-01]\n",
            " [-3.96062277e+00  3.17597407e-01]\n",
            " [-1.85903952e+00 -2.51353236e-01]\n",
            " [-3.17307052e+00 -2.05075013e-01]\n",
            " [-2.19950515e+00  1.81428492e-01]\n",
            " [-2.64069248e+00  4.73996010e-01]\n",
            " [-3.28587103e+00  1.23989864e+00]\n",
            " [-1.83797980e+00  6.60408733e-01]\n",
            " [-9.08350747e-01  2.25070196e+00]\n",
            " [-9.16478177e-01  1.74234076e+00]\n",
            " [-2.51404028e+00  3.70883428e-02]\n",
            " [-4.96409458e+00 -1.33518435e+00]\n",
            " [-3.97239779e+00 -1.53048845e+00]\n",
            " [-4.22752761e+00 -9.13829068e-01]\n",
            " [-4.05735708e+00 -4.06282798e-01]\n",
            " [-2.00369047e+00  7.27947500e-01]\n",
            " [-2.97854994e+00 -1.65811092e+00]\n",
            " [-4.61058479e+00 -1.26075336e+00]\n",
            " [-3.02637206e+00  1.13089228e-01]\n",
            " [-1.91225579e+00  8.66420593e-01]\n",
            " [-4.45429196e+00 -6.33350786e-01]\n",
            " [-5.53448569e+00 -2.58123976e+00]\n",
            " [-2.21262674e+00  4.62143142e-01]\n",
            " [-2.00958084e+00  9.41179488e-01]\n",
            " [-3.35226350e+00 -3.73920224e-01]\n",
            " [-3.96602040e+00 -1.11415148e+00]\n",
            " [-2.48656614e+00  1.45807399e-01]\n",
            " [-9.55375208e-01  1.05308142e+00]\n",
            " [-2.29290026e+00  1.53019513e+00]\n",
            " [-4.28412028e+00 -4.14516653e-01]\n",
            " [-1.11361927e+00  6.41313158e-01]\n",
            " [-2.42941443e+00  6.81783242e-01]\n",
            " [-3.80449703e+00 -1.41701241e-01]\n",
            " [-3.82077163e+00  2.81388880e-01]\n",
            " [-2.50007671e+00 -7.75587098e-02]\n",
            " [-1.12393893e+00  1.31382621e+00]\n",
            " [-2.94865524e+00 -5.10731287e-01]\n",
            " [-4.33528917e+00 -4.42054694e-01]\n",
            " [-1.02524981e+00  2.52122485e+00]\n",
            " [-1.00229018e+00  2.25164011e+00]\n",
            " [-4.18252355e+00 -1.14150494e+00]\n",
            " [-1.60085065e+00  1.02889014e+00]\n",
            " [-2.69415047e+00  1.90587804e-01]\n",
            " [-2.77276717e+00  1.57736858e-01]\n",
            " [-2.82034041e+00 -5.84709503e-01]\n",
            " [-3.25051617e+00  7.09716509e-01]\n",
            " [-2.49474002e+00  2.24553392e-01]\n",
            " [-3.21358252e+00 -1.83215302e+00]\n",
            " [-3.92092863e+00 -1.32057966e+00]\n",
            " [-3.18597579e+00 -1.25056812e-01]\n",
            " [-3.80948287e+00 -9.78724652e-01]\n",
            " [-2.76718314e+00  1.05364661e+00]\n",
            " [-7.63578019e-01  2.24928245e+00]\n",
            " [-1.48041501e+00  1.03792368e+00]\n",
            " [-4.89394331e+00 -1.92214793e+00]\n",
            " [-2.62167972e+00 -7.48439006e-01]\n",
            " [-2.37052442e+00  7.53789399e-01]\n",
            " [-3.53162936e+00 -1.41476041e-01]\n",
            " [-3.17483851e+00  1.58468220e-01]\n",
            " [-2.85188060e+00 -1.00911004e+00]\n",
            " [-3.27793877e+00  2.07725353e-01]\n",
            " [-3.44454688e+00 -6.74671392e-01]\n",
            " [-1.88207431e+00  4.10643131e-01]\n",
            " [-3.23398257e+00  4.82640071e-01]\n",
            " [-9.39679960e-01  1.64296786e+00]\n",
            " [-2.16691381e+00  1.32953692e+00]\n",
            " [-2.32530702e+00  3.77035589e-01]\n",
            " [-2.93502928e+00  3.46662146e-01]\n",
            " [-1.66447210e+00 -5.91022124e-01]\n",
            " [-3.65426849e+00 -3.76593343e-01]\n",
            " [-2.44892261e+00 -1.34527572e-01]\n",
            " [-3.45365272e+00 -2.13803110e-01]\n",
            " [-2.48555115e+00  3.77375837e-01]\n",
            " [-2.06110123e+00  8.25949109e-01]\n",
            " [-1.66110137e+00  1.60283422e+00]\n",
            " [-2.17938821e+00  9.71201441e-01]\n",
            " [-1.47959385e+00  1.14722093e+00]\n",
            " [-2.37002116e+00 -4.20339938e-01]\n",
            " [-2.98934188e+00 -2.29135851e-01]\n",
            " [-9.34934231e-01  1.24082268e+00]\n",
            " [-3.85726699e+00 -2.90867648e-01]\n",
            " [-3.00285740e+00  2.53136447e-01]\n",
            " [-3.31659259e+00 -1.08120711e-01]\n",
            " [-3.74343681e+00 -1.69654629e+00]\n",
            " [-3.52094516e+00 -7.62548837e-01]\n",
            " [-2.69166954e+00  1.17170948e-01]\n",
            " [-2.25634691e+00 -3.18614785e-02]\n",
            " [-3.70232942e+00  3.54467746e-01]\n",
            " [-2.94630955e+00  5.28144700e-02]\n",
            " [-2.31082217e+00  6.14880404e-01]\n",
            " [-3.32516336e+00 -5.59325242e-01]\n",
            " [-2.69700713e+00  5.58039759e-01]\n",
            " [-2.20895065e+00  9.50742237e-01]\n",
            " [-4.20827908e+00 -3.48172099e-01]\n",
            " [-3.34672832e+00  5.18216121e-01]\n",
            " [-3.66629728e+00 -1.29635748e+00]\n",
            " [-1.74812411e+00  1.05899995e+00]\n",
            " [-3.95327476e+00 -9.98993076e-01]\n",
            " [-2.92102860e+00  1.06069619e+00]\n",
            " [-2.53834515e+00 -1.00601784e+00]\n",
            " [-3.46533627e+00 -1.36433707e-01]\n",
            " [-3.35624262e+00 -7.18197096e-02]\n",
            " [-2.51926337e+00 -3.53090134e-01]\n",
            " [-2.34928933e+00  5.26507258e-02]\n",
            " [-1.71570699e+00  4.85458441e-01]\n",
            " [-3.46022632e+00 -3.98311365e-01]\n",
            " [-2.36949432e+00  2.19828312e-01]\n",
            " [-3.31905023e+00  3.63492446e-01]\n",
            " [-1.21781285e+00  2.02054480e+00]\n",
            " [-1.88633379e+00 -7.82505363e-02]\n",
            " [-8.65496497e-01  1.55720853e+00]\n",
            " [-3.33254246e+00 -8.39476358e-02]\n",
            " [-2.43081414e+00  1.21240641e+00]\n",
            " [-4.47521425e+00 -1.22470710e+00]\n",
            " [-2.79451873e+00  9.16626400e-01]\n",
            " [-3.99092959e+00 -4.42332972e-01]\n",
            " [-1.48085904e+00 -2.73588715e-01]\n",
            " [-4.49875981e+00 -2.51756877e+00]\n",
            " [-3.71892521e+00  7.86790356e-01]\n",
            " [-3.61379074e+00 -1.34345557e-02]\n",
            " [-1.01255382e+00  8.63150883e-01]\n",
            " [-2.83955911e+00  8.50291593e-01]\n",
            " [-2.42023286e+00  7.71949993e-02]\n",
            " [-3.52994622e+00  1.54329696e-01]\n",
            " [-1.24640206e+00  9.87983327e-01]\n",
            " [-2.59795770e+00  1.09435240e+00]\n",
            " [-3.89701737e+00  4.51474850e-01]\n",
            " [-3.87729235e+00 -8.99488489e-01]\n",
            " [-4.26703944e+00 -1.13327699e+00]\n",
            " [-2.54627981e+00  8.83774040e-01]\n",
            " [-2.24757491e+00  5.68761840e-01]\n",
            " [-4.22761725e+00 -1.29167329e+00]\n",
            " [-2.09123671e+00  6.15090349e-01]\n",
            " [-3.79462696e+00 -1.14408437e+00]\n",
            " [-2.47161336e+00  2.05649178e-01]\n",
            " [-3.05258448e+00 -2.96389610e-01]\n",
            " [-1.19981365e+00  1.23908386e+00]\n",
            " [-2.50825073e+00  1.27809350e+00]\n",
            " [-3.95667801e+00 -5.85262569e-01]\n",
            " [-2.26259907e+00  2.21449058e-01]\n",
            " [-2.18589283e+00  1.48839777e-01]\n",
            " [-4.65901925e+00 -3.07908535e+00]\n",
            " [-3.12885437e+00 -9.41276581e-01]\n",
            " [-2.58857743e+00 -2.13444719e-01]\n",
            " [-1.52224134e+00  7.56635199e-01]\n",
            " [-4.62287142e+00 -1.70698068e+00]\n",
            " [-2.44934639e+00  9.02164153e-01]\n",
            " [-3.23751289e+00  2.17876445e-01]\n",
            " [-1.36536616e+00  1.82664981e+00]\n",
            " [-3.20759917e+00 -1.25848620e+00]\n",
            " [-3.96157509e+00  1.11184329e-01]\n",
            " [-3.24565611e+00  2.73846619e-01]\n",
            " [-3.41242604e+00 -8.59891933e-01]\n",
            " [-2.54219880e+00 -5.33253274e-01]\n",
            " [-2.65587426e+00  5.12161568e-01]\n",
            " [-3.69377640e+00 -6.78210324e-01]\n",
            " [-3.33426697e+00 -1.03180611e+00]\n",
            " [-2.90961817e+00  1.02575183e-01]\n",
            " [-4.68695088e+00 -1.82240177e+00]\n",
            " [-2.53334310e+00  4.80160600e-01]\n",
            " [-2.18900654e+00  9.32901693e-01]\n",
            " [-2.08721070e+00 -2.20145722e-01]\n",
            " [-2.84400397e+00 -4.48358607e-02]\n",
            " [-1.43011759e+00  1.52742304e+00]\n",
            " [-4.57777785e+00 -1.24807641e+00]\n",
            " [-3.15630659e+00 -1.00474362e+00]\n",
            " [-3.49936940e+00 -4.05481638e-01]\n",
            " [-3.63554329e+00 -3.68249477e-01]\n",
            " [-1.69690665e+00  1.27690918e+00]\n",
            " [-2.26518259e+00  7.03141446e-01]\n",
            " [-2.56369030e+00  1.26638884e+00]\n",
            " [-1.90083677e+00  5.30622288e-01]\n",
            " [-2.73015025e+00 -4.11367511e-01]\n",
            " [-2.33467117e+00  1.40413132e-01]\n",
            " [-4.58724836e+00 -1.09026238e+00]\n",
            " [-2.82176593e+00 -6.91933221e-02]\n",
            " [-4.02076961e+00 -7.64496045e-01]\n",
            " [-3.46421129e+00 -4.80776711e-01]\n",
            " [-1.36283950e+00  1.56603076e+00]\n",
            " [-2.69882010e+00  7.09148681e-01]\n",
            " [-3.75185563e+00 -1.16798041e+00]\n",
            " [-3.99328239e+00  1.04583889e-01]\n",
            " [-2.89842245e+00  1.16531826e+00]\n",
            " [-2.19842656e+00  8.16094466e-01]\n",
            " [-2.99306262e+00  1.42099272e-02]\n",
            " [-2.01836032e+00  6.07742655e-01]\n",
            " [-2.46993957e+00  7.36849735e-01]\n",
            " [-4.01700420e+00  3.90806602e-01]\n",
            " [-4.13940778e+00 -1.46186096e+00]\n",
            " [-3.62351477e+00  7.11801297e-03]\n",
            " [-3.00700884e+00 -5.10540404e-02]\n",
            " [-3.32318524e+00  2.25328664e-01]\n",
            " [-2.09222676e+00  7.01801783e-01]\n",
            " [-3.54478028e+00 -3.47803856e-01]\n",
            " [-3.11034677e+00 -3.44229559e-01]\n",
            " [-4.59741685e+00 -2.47840071e-01]\n",
            " [-3.32447175e+00 -4.46647428e-01]\n",
            " [-3.54646948e+00 -8.87446899e-01]\n",
            " [-2.29915633e+00  7.21593746e-01]\n",
            " [-1.84832826e-01  2.08534488e+00]\n",
            " [-2.24191526e+00 -9.78735341e-02]\n",
            " [-1.88223679e+00  8.41539313e-01]\n",
            " [-1.31293509e+00  1.43024256e+00]\n",
            " [-2.50023197e+00  5.15835697e-01]\n",
            " [-4.14950580e+00 -1.04040443e+00]\n",
            " [-3.05143145e+00  1.14690729e-02]\n",
            " [-2.89420274e+00 -5.37244719e-01]\n",
            " [-2.98875028e+00  2.06521149e-01]\n",
            " [-1.97332639e+00  1.57416059e+00]\n",
            " [-3.82622476e+00 -1.22554200e+00]\n",
            " [-2.49333870e+00 -4.87550383e-02]\n",
            " [-3.32790263e+00 -9.99078537e-01]\n",
            " [-2.51732545e+00 -6.05540998e-02]\n",
            " [-2.48095436e+00 -6.15724586e-01]\n",
            " [-3.95335667e+00 -1.56342734e+00]\n",
            " [-2.98961540e+00 -1.24026773e-01]\n",
            " [-1.99625396e+00  4.42264579e-01]\n",
            " [-3.72212351e+00 -1.05456781e+00]\n",
            " [-3.00379906e+00 -5.10710195e-01]\n",
            " [-2.53536745e+00  7.63307876e-01]\n",
            " [-3.82722309e+00 -9.38102915e-01]\n",
            " [-2.28285755e+00  1.98076082e+00]\n",
            " [-1.69991324e+00  3.25101283e-01]\n",
            " [-5.33352104e+00 -2.58905350e+00]\n",
            " [-1.39715598e+00  1.17059876e+00]\n",
            " [-3.40886550e+00 -2.88501905e-01]\n",
            " [-2.76837455e+00  1.38441708e+00]\n",
            " [-2.13055528e+00  1.20183135e-01]\n",
            " [-4.33168036e+00 -4.91107207e-01]\n",
            " [-1.78131303e+00  3.32397124e-01]\n",
            " [-3.33013900e+00 -1.62498015e+00]\n",
            " [-2.14225785e+00  1.46960882e+00]\n",
            " [-2.86402364e+00 -3.09522803e-02]\n",
            " [-3.28639971e+00 -3.83022737e-01]\n",
            " [-2.17148805e+00  1.63557286e+00]\n",
            " [-4.32195056e+00 -1.19208684e+00]\n",
            " [-3.78267221e+00  6.97036439e-01]\n",
            " [-2.65566733e+00  1.80161774e-01]\n",
            " [-3.81105013e+00  1.19495582e-01]\n",
            " [-4.42926717e+00 -1.59280286e+00]\n",
            " [-2.85672045e+00 -7.28296959e-01]\n",
            " [-2.43831032e+00  3.02433684e-02]\n",
            " [-2.57659678e+00  1.48692572e+00]\n",
            " [-2.08026233e+00  5.83520575e-01]\n",
            " [-3.75748302e+00  6.33337501e-02]\n",
            " [-4.32901059e+00  4.16158819e-01]\n",
            " [-3.01097706e+00  1.52649586e-01]\n",
            " [-3.71526022e+00  1.92344705e-01]\n",
            " [-3.44445406e+00 -5.17964180e-01]\n",
            " [-2.17843320e+00  9.76166413e-01]\n",
            " [-4.19965832e+00 -1.45920655e+00]\n",
            " [-3.57963874e+00 -4.23961211e-01]\n",
            " [-3.56472120e+00 -1.07369216e+00]\n",
            " [-4.82171859e+00 -2.63073110e+00]\n",
            " [-2.94985869e+00  6.43443122e-01]\n",
            " [-3.54397047e+00 -1.90411358e-02]\n",
            " [-2.50570059e+00  4.46988586e-01]\n",
            " [-3.50784774e+00  4.84639184e-01]\n",
            " [-3.90692832e+00 -4.03068643e-01]\n",
            " [-2.68222410e+00  9.30551088e-01]\n",
            " [-3.65329188e+00  2.25280763e-01]\n",
            " [-4.81369737e+00 -2.00771309e+00]\n",
            " [-2.34131199e+00  1.12217977e-01]\n",
            " [-2.74298146e+00  1.54044304e-02]\n",
            " [-3.29533978e+00 -3.86771861e-01]\n",
            " [-2.99360818e+00  6.79694578e-01]\n",
            " [-2.24720945e+00  1.02671207e+00]\n",
            " [-2.84395530e+00  6.14175571e-01]\n",
            " [-4.21832641e+00 -1.41002258e+00]\n",
            " [-3.47493982e+00 -3.61861285e-01]\n",
            " [-2.31774502e+00  8.34542375e-01]\n",
            " [-3.40484501e+00 -1.43722577e-01]\n",
            " [-2.84156850e+00  2.18003940e-01]\n",
            " [-1.79803505e+00  9.75473722e-01]]\n"
          ],
          "name": "stdout"
        }
      ]
    },
    {
      "cell_type": "markdown",
      "metadata": {
        "id": "WCYqgMI1K02M"
      },
      "source": [
        "#[Problem 2] Visualization by scatter plot"
      ]
    },
    {
      "cell_type": "code",
      "metadata": {
        "colab": {
          "base_uri": "https://localhost:8080/",
          "height": 377
        },
        "id": "XIhafEXEK2bo",
        "outputId": "6f042184-7fc6-4266-8d95-def8a89595fe"
      },
      "source": [
        "import matplotlib.pyplot as plt\r\n",
        "%matplotlib inline\r\n",
        "\r\n",
        "x1 = [col[0] for col in rand]\r\n",
        "x2 = [col[1] for col in rand]\r\n",
        "plt.figure(figsize=(10, 5))\r\n",
        "plt.xlabel(\"x1\", fontsize = 20)\r\n",
        "plt.ylabel(\"x2\", fontsize = 20)\r\n",
        "plt.title(\"Scatter\", fontsize = 20)\r\n",
        "plt.tick_params(direction = 'out', length = 1, width = 1, pad = 10, labelsize = 20, colors = 'c')\r\n",
        "plt.scatter(x1, x2)\r\n",
        "plt.show()"
      ],
      "execution_count": 2,
      "outputs": [
        {
          "output_type": "display_data",
          "data": {
            "image/png": "[encoded data removed]",
            "text/plain": [
              "<Figure size 720x360 with 1 Axes>"
            ]
          },
          "metadata": {
            "tags": [],
            "needs_background": "dark"
          }
        }
      ]
    },
    {
      "cell_type": "markdown",
      "metadata": {
        "id": "Mgja5cGSOxBF"
      },
      "source": [
        "#[Problem 3] Visualization by histogram"
      ]
    },
    {
      "cell_type": "markdown",
      "metadata": {
        "id": "rPbxfG85yEmI"
      },
      "source": [
        "##First dimension"
      ]
    },
    {
      "cell_type": "code",
      "metadata": {
        "colab": {
          "base_uri": "https://localhost:8080/",
          "height": 331
        },
        "id": "VLfW9g8HOy8b",
        "outputId": "d2bec0fc-a0a0-46f6-cbeb-523d27b72486"
      },
      "source": [
        "left = -6\r\n",
        "right = 3\r\n",
        "plt.xlabel(\"x1\", fontsize = 20)\r\n",
        "plt.ylabel(\"Frequency\", fontsize = 20)\r\n",
        "plt.title(\"Histogram of x1\", fontsize = 20)\r\n",
        "plt.tick_params(direction = 'out', length = 10, width = 1, pad = 10, labelsize = 20, colors = 'c')\r\n",
        "plt.hist(x1, 50)\r\n",
        "plt.xlim(left, right) \r\n",
        "plt.show()"
      ],
      "execution_count": 3,
      "outputs": [
        {
          "output_type": "display_data",
          "data": {
            "image/png": "[encoded data removed]",
            "text/plain": [
              "<Figure size 432x288 with 1 Axes>"
            ]
          },
          "metadata": {
            "tags": [],
            "needs_background": "dark"
          }
        }
      ]
    },
    {
      "cell_type": "markdown",
      "metadata": {
        "id": "Vhyhx3BqyM6N"
      },
      "source": [
        "##Second dimension"
      ]
    },
    {
      "cell_type": "code",
      "metadata": {
        "colab": {
          "base_uri": "https://localhost:8080/",
          "height": 325
        },
        "id": "NuHLNd6aPrbe",
        "outputId": "5d95f87d-b22e-43b9-fa5d-f74aea85154b"
      },
      "source": [
        "plt.xlabel(\"x2\", fontsize = 20)\r\n",
        "plt.ylabel(\"Frequency\", fontsize = 20)\r\n",
        "plt.title(\"Histogram of x2\", fontsize = 20)\r\n",
        "plt.tick_params(direction = 'out', length = 4, width = 1, pad = 10, labelsize = 20, colors = 'c')\r\n",
        "plt.hist(x2, 50)\r\n",
        "plt.xlim(left, right) \r\n",
        "plt.show()"
      ],
      "execution_count": 4,
      "outputs": [
        {
          "output_type": "display_data",
          "data": {
            "image/png": "[encoded data removed]",
            "text/plain": [
              "<Figure size 432x288 with 1 Axes>"
            ]
          },
          "metadata": {
            "tags": [],
            "needs_background": "dark"
          }
        }
      ]
    },
    {
      "cell_type": "markdown",
      "metadata": {
        "id": "2UEiACM3ivfg"
      },
      "source": [
        "#[Problem 4] Addition of data"
      ]
    },
    {
      "cell_type": "code",
      "metadata": {
        "colab": {
          "base_uri": "https://localhost:8080/",
          "height": 377
        },
        "id": "NErEApfWiwgm",
        "outputId": "612c1870-5524-4b5b-a7ce-8879d03904b8"
      },
      "source": [
        "mean2 = (0, -3)\r\n",
        "cov = [[1.0, 0.8], [0.8, 1.0]]\r\n",
        "rand2 = np.random.multivariate_normal(mean2, cov, 500)\r\n",
        "x12 = [col[0] for col in rand2]\r\n",
        "x22 = [col[1] for col in rand2]\r\n",
        "plt.figure(figsize=(8, 5))\r\n",
        "plt.xlabel(\"x1\", fontsize = 20)\r\n",
        "plt.ylabel(\"x2\", fontsize = 20)\r\n",
        "plt.title(\"Scatter\", fontsize = 20)\r\n",
        "plt.tick_params(direction = 'out', length = 1, width = 1, pad = 10, labelsize = 20, colors = 'c')\r\n",
        "plt.scatter(x1, x2, c = 'dodgerblue', label = '0')\r\n",
        "plt.scatter(x12, x22, c = 'darkorange', label = '1')\r\n",
        "plt.legend(loc = 'upper right');\r\n",
        "plt.show()"
      ],
      "execution_count": 5,
      "outputs": [
        {
          "output_type": "display_data",
          "data": {
            "image/png": "[encoded data removed]",
            "text/plain": [
              "<Figure size 576x360 with 1 Axes>"
            ]
          },
          "metadata": {
            "tags": [],
            "needs_background": "dark"
          }
        }
      ]
    },
    {
      "cell_type": "markdown",
      "metadata": {
        "id": "JS4bzcBbomPU"
      },
      "source": [
        "#[Problem 5] Data combination"
      ]
    },
    {
      "cell_type": "code",
      "metadata": {
        "colab": {
          "base_uri": "https://localhost:8080/"
        },
        "id": "bX7IqIREonc1",
        "outputId": "92d27335-cbe2-4370-b107-b9423d1cf953"
      },
      "source": [
        "rand3 = np.concatenate((rand, rand2))\r\n",
        "print(\"Combined the ndarrays created in problems 1 and 4：\\n{}\".format(rand3))"
      ],
      "execution_count": 6,
      "outputs": [
        {
          "output_type": "stream",
          "text": [
            "Combined the ndarrays created in problems 1 and 4：\n",
            "[[-4.80006782 -1.54698618]\n",
            " [-4.63714503 -0.21987973]\n",
            " [-4.46267867 -2.08076347]\n",
            " ...\n",
            " [-0.2185878  -3.15676476]\n",
            " [-1.37970304 -4.27950068]\n",
            " [ 1.49786804 -2.33126243]]\n"
          ],
          "name": "stdout"
        }
      ]
    },
    {
      "cell_type": "markdown",
      "metadata": {
        "id": "cSKisAfTpZSl"
      },
      "source": [
        "#[Problem 6] Labeling"
      ]
    },
    {
      "cell_type": "code",
      "metadata": {
        "colab": {
          "base_uri": "https://localhost:8080/"
        },
        "id": "QqLHb2ropa3J",
        "outputId": "1ccabd58-fc76-44fb-95dc-0df527726cc9"
      },
      "source": [
        "lable = np.concatenate((np.zeros(500), np.ones(500)))\r\n",
        "print(\"Combined the ndarrays created in problems 1 and 4 with lable：\\n{}\".format(np.insert(rand3, 2, lable, axis=1)))"
      ],
      "execution_count": 7,
      "outputs": [
        {
          "output_type": "stream",
          "text": [
            "Combined the ndarrays created in problems 1 and 4 with lable：\n",
            "[[-4.80006782 -1.54698618  0.        ]\n",
            " [-4.63714503 -0.21987973  0.        ]\n",
            " [-4.46267867 -2.08076347  0.        ]\n",
            " ...\n",
            " [-0.2185878  -3.15676476  1.        ]\n",
            " [-1.37970304 -4.27950068  1.        ]\n",
            " [ 1.49786804 -2.33126243  1.        ]]\n"
          ],
          "name": "stdout"
        }
      ]
    }
  ]
}