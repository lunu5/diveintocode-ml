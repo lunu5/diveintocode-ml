{
  "nbformat": 4,
  "nbformat_minor": 0,
  "metadata": {
    "colab": {
      "name": " Classification_of_irises.ipynb",
      "provenance": [],
      "collapsed_sections": [],
      "authorship_tag": "ABX9TyMSbxz4pcBxxK1UUPuGjgnw",
      "include_colab_link": true
    },
    "kernelspec": {
      "display_name": "Python 3",
      "name": "python3"
    },
    "language_info": {
      "name": "python"
    }
  },
  "cells": [
    {
      "cell_type": "markdown",
      "metadata": {
        "id": "view-in-github",
        "colab_type": "text"
      },
      "source": [
        "<a href=\"https://colab.research.google.com/github/lunu5/diveintocode-ml/blob/master/Classification_of_irises.ipynb\" target=\"_parent\"><img src=\"https://colab.research.google.com/assets/colab-badge.svg\" alt=\"Open In Colab\"/></a>"
      ]
    },
    {
      "cell_type": "markdown",
      "metadata": {
        "id": "6y2rXSQ8cDsJ"
      },
      "source": [
        "#[Problem 1] Select features and categories for practice"
      ]
    },
    {
      "cell_type": "code",
      "metadata": {
        "colab": {
          "base_uri": "https://localhost:8080/",
          "height": 419
        },
        "id": "1eEHZdO4blJh",
        "outputId": "6b91bafe-7a74-4e3a-8f25-fc0c26e1d31f"
      },
      "source": [
        "import pandas as pd \n",
        "import matplotlib.pyplot as plt\n",
        "import numpy as np\n",
        "import warnings\n",
        "warnings.filterwarnings('ignore')\n",
        "import seaborn as sns\n",
        "sns.set()\n",
        "%matplotlib inline\n",
        "from sklearn.datasets import load_iris\n",
        "data = load_iris()\n",
        "x = pd.DataFrame(data.data)\n",
        "y = pd.DataFrame(data.target)\n",
        "x.columns = [data.feature_names]\n",
        "y.columns = ['Species']\n",
        "df = pd.concat([x, y], 1)\n",
        "df = df.drop(df[df['Species'] == 0].index)\n",
        "df = df.drop([df.columns[1], df.columns[3]], 1)\n",
        "df"
      ],
      "execution_count": 1,
      "outputs": [
        {
          "output_type": "execute_result",
          "data": {
            "text/html": [
              "<div>\n",
              "<style scoped>\n",
              "    .dataframe tbody tr th:only-of-type {\n",
              "        vertical-align: middle;\n",
              "    }\n",
              "\n",
              "    .dataframe tbody tr th {\n",
              "        vertical-align: top;\n",
              "    }\n",
              "\n",
              "    .dataframe thead th {\n",
              "        text-align: right;\n",
              "    }\n",
              "</style>\n",
              "<table border=\"1\" class=\"dataframe\">\n",
              "  <thead>\n",
              "    <tr style=\"text-align: right;\">\n",
              "      <th></th>\n",
              "      <th>(sepal length (cm),)</th>\n",
              "      <th>(petal length (cm),)</th>\n",
              "      <th>Species</th>\n",
              "    </tr>\n",
              "  </thead>\n",
              "  <tbody>\n",
              "    <tr>\n",
              "      <th>50</th>\n",
              "      <td>7.0</td>\n",
              "      <td>4.7</td>\n",
              "      <td>1</td>\n",
              "    </tr>\n",
              "    <tr>\n",
              "      <th>51</th>\n",
              "      <td>6.4</td>\n",
              "      <td>4.5</td>\n",
              "      <td>1</td>\n",
              "    </tr>\n",
              "    <tr>\n",
              "      <th>52</th>\n",
              "      <td>6.9</td>\n",
              "      <td>4.9</td>\n",
              "      <td>1</td>\n",
              "    </tr>\n",
              "    <tr>\n",
              "      <th>53</th>\n",
              "      <td>5.5</td>\n",
              "      <td>4.0</td>\n",
              "      <td>1</td>\n",
              "    </tr>\n",
              "    <tr>\n",
              "      <th>54</th>\n",
              "      <td>6.5</td>\n",
              "      <td>4.6</td>\n",
              "      <td>1</td>\n",
              "    </tr>\n",
              "    <tr>\n",
              "      <th>...</th>\n",
              "      <td>...</td>\n",
              "      <td>...</td>\n",
              "      <td>...</td>\n",
              "    </tr>\n",
              "    <tr>\n",
              "      <th>145</th>\n",
              "      <td>6.7</td>\n",
              "      <td>5.2</td>\n",
              "      <td>2</td>\n",
              "    </tr>\n",
              "    <tr>\n",
              "      <th>146</th>\n",
              "      <td>6.3</td>\n",
              "      <td>5.0</td>\n",
              "      <td>2</td>\n",
              "    </tr>\n",
              "    <tr>\n",
              "      <th>147</th>\n",
              "      <td>6.5</td>\n",
              "      <td>5.2</td>\n",
              "      <td>2</td>\n",
              "    </tr>\n",
              "    <tr>\n",
              "      <th>148</th>\n",
              "      <td>6.2</td>\n",
              "      <td>5.4</td>\n",
              "      <td>2</td>\n",
              "    </tr>\n",
              "    <tr>\n",
              "      <th>149</th>\n",
              "      <td>5.9</td>\n",
              "      <td>5.1</td>\n",
              "      <td>2</td>\n",
              "    </tr>\n",
              "  </tbody>\n",
              "</table>\n",
              "<p>100 rows × 3 columns</p>\n",
              "</div>"
            ],
            "text/plain": [
              "     (sepal length (cm),)  (petal length (cm),)  Species\n",
              "50                    7.0                   4.7        1\n",
              "51                    6.4                   4.5        1\n",
              "52                    6.9                   4.9        1\n",
              "53                    5.5                   4.0        1\n",
              "54                    6.5                   4.6        1\n",
              "..                    ...                   ...      ...\n",
              "145                   6.7                   5.2        2\n",
              "146                   6.3                   5.0        2\n",
              "147                   6.5                   5.2        2\n",
              "148                   6.2                   5.4        2\n",
              "149                   5.9                   5.1        2\n",
              "\n",
              "[100 rows x 3 columns]"
            ]
          },
          "metadata": {
            "tags": []
          },
          "execution_count": 1
        }
      ]
    },
    {
      "cell_type": "markdown",
      "metadata": {
        "id": "uVnK_J1I5CHk"
      },
      "source": [
        "#Problem 2] Data analysis"
      ]
    },
    {
      "cell_type": "code",
      "metadata": {
        "colab": {
          "base_uri": "https://localhost:8080/",
          "height": 429
        },
        "id": "CNWzGBxrQ4RZ",
        "outputId": "eb1121c3-92fa-4c64-e289-6a79965aac96"
      },
      "source": [
        "plt.figure(figsize = (16, 6))\n",
        "plt.scatter(df.iloc[:50, 0], df.iloc[:50, 1], label = 'Versicolor')\n",
        "plt.scatter(df.iloc[50:, 0], df.iloc[50:, 1], label = 'Virginica')\n",
        "plt.xlabel('Sepal length', fontsize = 20)\n",
        "plt.ylabel('Petal length', fontsize = 20)\n",
        "plt.legend()\n",
        "plt.tick_params(direction = 'out', length = 10, width = 1, colors = 'c', labelsize = 20)\n",
        "plt.title('Scatter plot', fontsize = 20)\n",
        "plt.show()"
      ],
      "execution_count": 2,
      "outputs": [
        {
          "output_type": "display_data",
          "data": {
            "image/png": "[encoded data removed]",
            "text/plain": [
              "<Figure size 1152x432 with 1 Axes>"
            ]
          },
          "metadata": {
            "tags": [],
            "needs_background": "dark"
          }
        }
      ]
    },
    {
      "cell_type": "code",
      "metadata": {
        "colab": {
          "base_uri": "https://localhost:8080/",
          "height": 392
        },
        "id": "ybw25nlCcLJy",
        "outputId": "5d79bb24-1161-4061-80e7-28803da73ea1"
      },
      "source": [
        "plt.figure(figsize = (16, 6))\n",
        "sns.boxplot(x = df[df.columns[0]], y = df[df.columns[1]], hue = df['Species'])\n",
        "plt.show() "
      ],
      "execution_count": 3,
      "outputs": [
        {
          "output_type": "display_data",
          "data": {
            "image/png": "[encoded data removed]",
            "text/plain": [
              "<Figure size 1152x432 with 1 Axes>"
            ]
          },
          "metadata": {
            "tags": [],
            "needs_background": "light"
          }
        }
      ]
    },
    {
      "cell_type": "code",
      "metadata": {
        "colab": {
          "base_uri": "https://localhost:8080/",
          "height": 394
        },
        "id": "WOu_PLYaqSos",
        "outputId": "701b9374-f8fc-42ef-ba66-d7d43a9971fb"
      },
      "source": [
        "plt.figure(figsize = (16, 6))\n",
        "sns.violinplot(x = df[df.columns[0]], y = df[df.columns[1]], hue = df['Species'])\n",
        "plt.show() "
      ],
      "execution_count": 4,
      "outputs": [
        {
          "output_type": "display_data",
          "data": {
            "image/png": "[encoded data removed]",
            "text/plain": [
              "<Figure size 1152x432 with 1 Axes>"
            ]
          },
          "metadata": {
            "tags": [],
            "needs_background": "light"
          }
        }
      ]
    },
    {
      "cell_type": "markdown",
      "metadata": {
        "id": "HI0GHx0rcMan"
      },
      "source": [
        "#[Problem 3] Division of preprocessing/training data and verification data"
      ]
    },
    {
      "cell_type": "code",
      "metadata": {
        "id": "21Z91BAjcOTb"
      },
      "source": [
        "from sklearn.model_selection import train_test_split\n",
        "x = np.array(df.drop(df.columns[2], 1))\n",
        "y = np.array(df['Species'])\n",
        "x_train, x_test, y_train, y_test = train_test_split(x, y, test_size = 0.25)"
      ],
      "execution_count": 5,
      "outputs": []
    },
    {
      "cell_type": "markdown",
      "metadata": {
        "id": "xgv6PwN0cOwH"
      },
      "source": [
        "#[Problem 4] Pretreatment/Standardization"
      ]
    },
    {
      "cell_type": "code",
      "metadata": {
        "id": "j5s7RkifcQxD"
      },
      "source": [
        "from sklearn.preprocessing import StandardScaler\n",
        "scaler = StandardScaler()\n",
        "scaler.fit(x_train)\n",
        "scaler.transform(x_train)\n",
        "scaler.transform(x_test);"
      ],
      "execution_count": 6,
      "outputs": []
    },
    {
      "cell_type": "markdown",
      "metadata": {
        "id": "az3SaR_ycRIZ"
      },
      "source": [
        "#[Problem 5] Learning and estimation"
      ]
    },
    {
      "cell_type": "code",
      "metadata": {
        "id": "8W09f8DAcSse"
      },
      "source": [
        "from sklearn.neighbors import KNeighborsClassifier\n",
        "neigh1 = KNeighborsClassifier(n_neighbors = 1)\n",
        "neigh1.fit(x_train, y_train)\n",
        "nn1 = neigh1.predict(x_test)\n",
        "\n",
        "neigh2 = KNeighborsClassifier(n_neighbors = 3)\n",
        "neigh2.fit(x_train, y_train)\n",
        "nn3 = neigh2.predict(x_test)\n",
        "\n",
        "neigh3 = KNeighborsClassifier()\n",
        "neigh3.fit(x_train, y_train)\n",
        "nn5 = neigh3.predict(x_test)"
      ],
      "execution_count": 7,
      "outputs": []
    },
    {
      "cell_type": "markdown",
      "metadata": {
        "id": "Jw0cD_5hcTKh"
      },
      "source": [
        "#[Problem 6] Evaluation"
      ]
    },
    {
      "cell_type": "markdown",
      "metadata": {
        "id": "kCHJbz5n2ozy"
      },
      "source": [
        "##Calculate 4 types of indicators using scikit-learn"
      ]
    },
    {
      "cell_type": "markdown",
      "metadata": {
        "id": "8xFiY_ep3hO_"
      },
      "source": [
        "###**Accuracy**"
      ]
    },
    {
      "cell_type": "markdown",
      "metadata": {
        "id": "rJQSDScL3EeU"
      },
      "source": [
        "####Score of 1-nn"
      ]
    },
    {
      "cell_type": "code",
      "metadata": {
        "colab": {
          "base_uri": "https://localhost:8080/"
        },
        "id": "t-zwOcEH3L_O",
        "outputId": "561bfee3-ca17-4960-8d59-0bc7b3000da4"
      },
      "source": [
        "from sklearn.metrics import accuracy_score\n",
        "accuracy_score(y_test, nn1)"
      ],
      "execution_count": 8,
      "outputs": [
        {
          "output_type": "execute_result",
          "data": {
            "text/plain": [
              "0.8"
            ]
          },
          "metadata": {
            "tags": []
          },
          "execution_count": 8
        }
      ]
    },
    {
      "cell_type": "markdown",
      "metadata": {
        "id": "g0w_SstW3OTm"
      },
      "source": [
        "####Score of 3-nn"
      ]
    },
    {
      "cell_type": "code",
      "metadata": {
        "colab": {
          "base_uri": "https://localhost:8080/"
        },
        "id": "vgiWYogx3S1O",
        "outputId": "145f4e8c-f677-4891-d4b1-278f7724734f"
      },
      "source": [
        "accuracy_score(y_test, nn3)"
      ],
      "execution_count": 9,
      "outputs": [
        {
          "output_type": "execute_result",
          "data": {
            "text/plain": [
              "0.84"
            ]
          },
          "metadata": {
            "tags": []
          },
          "execution_count": 9
        }
      ]
    },
    {
      "cell_type": "markdown",
      "metadata": {
        "id": "7ZdYnxdY3Q2x"
      },
      "source": [
        "####Score of 5-nn"
      ]
    },
    {
      "cell_type": "code",
      "metadata": {
        "colab": {
          "base_uri": "https://localhost:8080/"
        },
        "id": "29AZdeWo3Sa-",
        "outputId": "0fc45af3-3493-4834-f06b-48ada92d1834"
      },
      "source": [
        "accuracy_score(y_test, nn5)"
      ],
      "execution_count": 10,
      "outputs": [
        {
          "output_type": "execute_result",
          "data": {
            "text/plain": [
              "0.84"
            ]
          },
          "metadata": {
            "tags": []
          },
          "execution_count": 10
        }
      ]
    },
    {
      "cell_type": "markdown",
      "metadata": {
        "id": "R9HKAg8b3qyP"
      },
      "source": [
        "###**Precision**"
      ]
    },
    {
      "cell_type": "markdown",
      "metadata": {
        "id": "R4TvAOZk36YB"
      },
      "source": [
        "####Score of 1-nn"
      ]
    },
    {
      "cell_type": "code",
      "metadata": {
        "colab": {
          "base_uri": "https://localhost:8080/"
        },
        "id": "1pKN2Z7w4B7r",
        "outputId": "9e8e4284-a796-4173-ad3f-aa2e74e52b9f"
      },
      "source": [
        "from sklearn.metrics import precision_score\n",
        "precision_score(y_test, nn1, average=None, zero_division=1)"
      ],
      "execution_count": 11,
      "outputs": [
        {
          "output_type": "execute_result",
          "data": {
            "text/plain": [
              "array([0.76923077, 0.83333333])"
            ]
          },
          "metadata": {
            "tags": []
          },
          "execution_count": 11
        }
      ]
    },
    {
      "cell_type": "markdown",
      "metadata": {
        "id": "pzqMJJJu4teX"
      },
      "source": [
        "####Score of 3-nn"
      ]
    },
    {
      "cell_type": "code",
      "metadata": {
        "colab": {
          "base_uri": "https://localhost:8080/"
        },
        "id": "FEz54sA14tx_",
        "outputId": "48f25e0a-bbc1-436a-fd82-41bbeed7ae68"
      },
      "source": [
        "precision_score(y_test, nn3, average=None, zero_division=1)"
      ],
      "execution_count": 12,
      "outputs": [
        {
          "output_type": "execute_result",
          "data": {
            "text/plain": [
              "array([0.83333333, 0.84615385])"
            ]
          },
          "metadata": {
            "tags": []
          },
          "execution_count": 12
        }
      ]
    },
    {
      "cell_type": "markdown",
      "metadata": {
        "id": "9WCBPhCm4t5-"
      },
      "source": [
        "####Score of 5-nn"
      ]
    },
    {
      "cell_type": "code",
      "metadata": {
        "colab": {
          "base_uri": "https://localhost:8080/"
        },
        "id": "DEAvWv6v4uEg",
        "outputId": "08b095a0-6121-4c12-aa21-bdb69cca7ac0"
      },
      "source": [
        "precision_score(y_test, nn5, average=None, zero_division=1)"
      ],
      "execution_count": 13,
      "outputs": [
        {
          "output_type": "execute_result",
          "data": {
            "text/plain": [
              "array([0.83333333, 0.84615385])"
            ]
          },
          "metadata": {
            "tags": []
          },
          "execution_count": 13
        }
      ]
    },
    {
      "cell_type": "markdown",
      "metadata": {
        "id": "1-8TYVcD5LIV"
      },
      "source": [
        "###**Recall**"
      ]
    },
    {
      "cell_type": "markdown",
      "metadata": {
        "id": "RYuZ-XSm5S_I"
      },
      "source": [
        "####Score of 1-nn"
      ]
    },
    {
      "cell_type": "code",
      "metadata": {
        "colab": {
          "base_uri": "https://localhost:8080/"
        },
        "id": "QwEIlVmN5fVY",
        "outputId": "d08ba777-a3a3-47cd-d420-9927c919e99d"
      },
      "source": [
        "from sklearn.metrics import recall_score\n",
        "recall_score(y_test, nn1, average=None, zero_division=1)"
      ],
      "execution_count": 14,
      "outputs": [
        {
          "output_type": "execute_result",
          "data": {
            "text/plain": [
              "array([0.83333333, 0.76923077])"
            ]
          },
          "metadata": {
            "tags": []
          },
          "execution_count": 14
        }
      ]
    },
    {
      "cell_type": "markdown",
      "metadata": {
        "id": "1Ry7rxAU5W71"
      },
      "source": [
        "####Score of 3-nn"
      ]
    },
    {
      "cell_type": "code",
      "metadata": {
        "colab": {
          "base_uri": "https://localhost:8080/"
        },
        "id": "MquNk6QJ5r1U",
        "outputId": "b1b27043-8a56-4cbe-a3cb-8a888a916876"
      },
      "source": [
        "recall_score(y_test, nn3, average=None, zero_division=1)"
      ],
      "execution_count": 15,
      "outputs": [
        {
          "output_type": "execute_result",
          "data": {
            "text/plain": [
              "array([0.83333333, 0.84615385])"
            ]
          },
          "metadata": {
            "tags": []
          },
          "execution_count": 15
        }
      ]
    },
    {
      "cell_type": "markdown",
      "metadata": {
        "id": "VLjO0_wx5Z9F"
      },
      "source": [
        "####Score of 5-nn"
      ]
    },
    {
      "cell_type": "code",
      "metadata": {
        "colab": {
          "base_uri": "https://localhost:8080/"
        },
        "id": "ov92GBV65uSn",
        "outputId": "046ea0b9-0b24-40b8-cda7-12c1b2b80e4b"
      },
      "source": [
        "recall_score(y_test, nn5, average=None, zero_division=1)"
      ],
      "execution_count": 16,
      "outputs": [
        {
          "output_type": "execute_result",
          "data": {
            "text/plain": [
              "array([0.83333333, 0.84615385])"
            ]
          },
          "metadata": {
            "tags": []
          },
          "execution_count": 16
        }
      ]
    },
    {
      "cell_type": "markdown",
      "metadata": {
        "id": "m5FS2mjC6AfL"
      },
      "source": [
        "###**F-measure**"
      ]
    },
    {
      "cell_type": "markdown",
      "metadata": {
        "id": "aneaOXwM6CE7"
      },
      "source": [
        "####Score of 1-nn"
      ]
    },
    {
      "cell_type": "code",
      "metadata": {
        "colab": {
          "base_uri": "https://localhost:8080/"
        },
        "id": "3hjv_MZh6Nu1",
        "outputId": "f463a23c-6931-49e5-cc6f-1a5db972ed18"
      },
      "source": [
        "from sklearn.metrics import f1_score\n",
        "f1_score(y_test, nn1, zero_division=1)"
      ],
      "execution_count": 17,
      "outputs": [
        {
          "output_type": "execute_result",
          "data": {
            "text/plain": [
              "0.8"
            ]
          },
          "metadata": {
            "tags": []
          },
          "execution_count": 17
        }
      ]
    },
    {
      "cell_type": "markdown",
      "metadata": {
        "id": "OpUF38lb6KuY"
      },
      "source": [
        "####Score of 3-nn"
      ]
    },
    {
      "cell_type": "code",
      "metadata": {
        "colab": {
          "base_uri": "https://localhost:8080/"
        },
        "id": "fZ2G3fUE6f-P",
        "outputId": "8bb8b61b-4f6b-4990-9b4f-2a18d2adbc75"
      },
      "source": [
        "f1_score(y_test, nn3, zero_division=1)"
      ],
      "execution_count": 18,
      "outputs": [
        {
          "output_type": "execute_result",
          "data": {
            "text/plain": [
              "0.8333333333333334"
            ]
          },
          "metadata": {
            "tags": []
          },
          "execution_count": 18
        }
      ]
    },
    {
      "cell_type": "markdown",
      "metadata": {
        "id": "ObaYnI5p6LIc"
      },
      "source": [
        "####Score of 5-nn"
      ]
    },
    {
      "cell_type": "code",
      "metadata": {
        "colab": {
          "base_uri": "https://localhost:8080/"
        },
        "id": "VDYE97s96hzw",
        "outputId": "78a78183-76a1-401e-ef6d-a4888087aa27"
      },
      "source": [
        "f1_score(y_test, nn5, zero_division=1)"
      ],
      "execution_count": 19,
      "outputs": [
        {
          "output_type": "execute_result",
          "data": {
            "text/plain": [
              "0.8333333333333334"
            ]
          },
          "metadata": {
            "tags": []
          },
          "execution_count": 19
        }
      ]
    },
    {
      "cell_type": "markdown",
      "metadata": {
        "id": "QL8SoZGT6qgB"
      },
      "source": [
        "##Display the confusion matrix using scikit-learn"
      ]
    },
    {
      "cell_type": "markdown",
      "metadata": {
        "id": "YJnPolQb7-6-"
      },
      "source": [
        "####Score of 1-nn"
      ]
    },
    {
      "cell_type": "code",
      "metadata": {
        "colab": {
          "base_uri": "https://localhost:8080/"
        },
        "id": "3kgvRNIx65Yp",
        "outputId": "f587f0a6-9b99-4953-a738-3334d4588a50"
      },
      "source": [
        "from sklearn.metrics import confusion_matrix\n",
        "confusion_matrix(y_test, nn1)"
      ],
      "execution_count": 20,
      "outputs": [
        {
          "output_type": "execute_result",
          "data": {
            "text/plain": [
              "array([[10,  2],\n",
              "       [ 3, 10]])"
            ]
          },
          "metadata": {
            "tags": []
          },
          "execution_count": 20
        }
      ]
    },
    {
      "cell_type": "markdown",
      "metadata": {
        "id": "p25MR7Em8GgE"
      },
      "source": [
        "####Score of 3-nn"
      ]
    },
    {
      "cell_type": "code",
      "metadata": {
        "colab": {
          "base_uri": "https://localhost:8080/"
        },
        "id": "a96UaJ2u8JsB",
        "outputId": "9f9e8472-96ad-456a-806f-361a063cbb56"
      },
      "source": [
        "confusion_matrix(y_test, nn3)"
      ],
      "execution_count": 21,
      "outputs": [
        {
          "output_type": "execute_result",
          "data": {
            "text/plain": [
              "array([[10,  2],\n",
              "       [ 2, 11]])"
            ]
          },
          "metadata": {
            "tags": []
          },
          "execution_count": 21
        }
      ]
    },
    {
      "cell_type": "markdown",
      "metadata": {
        "id": "C94zJvpt6sYg"
      },
      "source": [
        "####Score of 5-nn"
      ]
    },
    {
      "cell_type": "code",
      "metadata": {
        "colab": {
          "base_uri": "https://localhost:8080/"
        },
        "id": "BfYJ9ce48Drh",
        "outputId": "f3037265-07b0-4a91-fad1-8f4470f9ff38"
      },
      "source": [
        "m_nn5 = confusion_matrix(y_test, nn5)\n",
        "m_nn5"
      ],
      "execution_count": 22,
      "outputs": [
        {
          "output_type": "execute_result",
          "data": {
            "text/plain": [
              "array([[10,  2],\n",
              "       [ 2, 11]])"
            ]
          },
          "metadata": {
            "tags": []
          },
          "execution_count": 22
        }
      ]
    },
    {
      "cell_type": "markdown",
      "metadata": {
        "id": "mo4jgnY48Wh3"
      },
      "source": [
        "##Briefly research and summarize in writing the meaning of the four types of index values\n",
        "\n",
        "\n",
        "> Each row of the confusion matrix represents the instances of an actual class and each column represents the instances of a predicted class. By definition a confusion matrix *C* is such that *C<sub>i,j<sub>* is equal to the number of observations known to be in group  and predicted to be in group.\n",
        "\n",
        "\n",
        "> The count of true negatives is *C<sub>0,0<sub>*, false negatives is *C<sub>1,0<sub>*, true positives is *C<sub>1,1<sub>* and false positives is *C<sub>0,1<sub>*. \n",
        "\n",
        "\n",
        "\n"
      ]
    },
    {
      "cell_type": "markdown",
      "metadata": {
        "id": "aytf4o8ycWY4"
      },
      "source": [
        "#[Problem 7] Visualization"
      ]
    },
    {
      "cell_type": "code",
      "metadata": {
        "id": "DWGs4oBRcX4C"
      },
      "source": [
        "from matplotlib.colors import ListedColormap\n",
        "import matplotlib.patches as mpatches\n",
        "def decision_region(X, y, model, step=0.01, title='decision region', xlabel='xlabel', ylabel='ylabel', target_names=['versicolor', 'virginica']):\n",
        "    \"\"\"\n",
        "    Draw the determination area of the model that learned binary classification with two-dimensional features.\n",
        "    The background color is drawn from the estimated values of the trained model.\n",
        "    The points on the scatter plot are training or validation data.\n",
        "    Parameters\n",
        "    ----------------\n",
        "    X : ndarray, shape(n_samples, 2)\n",
        "        Feature value\n",
        "    y : ndarray, shape(n_samples,)\n",
        "        label\n",
        "    model : object\n",
        "        Insert the installed model of the learned model\n",
        "    step : float, (default : 0.1)\n",
        "        Set the interval to calculate the estimate\n",
        "    title : str\n",
        "        Give the text of the graph Title\n",
        "    xlabel, ylabel : str\n",
        "        Give the text of the axis label\n",
        "    target_names= : list of str\n",
        "        Give a list of legends\n",
        "    \"\"\"\n",
        "    # setting\n",
        "    scatter_color = ['red', 'blue']\n",
        "    contourf_color = ['pink', 'skyblue']\n",
        "    n_class = 2\n",
        "    # pred\n",
        "    mesh_f0, mesh_f1  = np.meshgrid(np.arange(np.min(X[:,0])-0.5, np.max(X[:,0])+0.5, step), np.arange(np.min(X[:,1])-0.5, np.max(X[:,1])+0.5, step))\n",
        "    mesh = np.c_[np.ravel(mesh_f0),np.ravel(mesh_f1)]\n",
        "    y_pred = model.predict(mesh).reshape(mesh_f0.shape)\n",
        "    # plot\n",
        "    plt.title(title)\n",
        "    plt.xlabel(xlabel)\n",
        "    plt.ylabel(ylabel)\n",
        "    plt.contourf(mesh_f0, mesh_f1, y_pred, n_class-1, cmap=ListedColormap(contourf_color))\n",
        "    plt.contour(mesh_f0, mesh_f1, y_pred, n_class-1, colors='y', linewidths=3, alpha=0.5)\n",
        "    for i, target in enumerate(set(y)):\n",
        "        plt.scatter(X[y==target][:, 0], X[y==target][:, 1], s=80, color=scatter_color[i], label=target_names[i], marker='o')\n",
        "    patches = [mpatches.Patch(color=scatter_color[i], label=target_names[i]) for i in range(n_class)]\n",
        "    plt.legend(handles=patches)\n",
        "    plt.legend()\n",
        "    plt.show()"
      ],
      "execution_count": 23,
      "outputs": []
    },
    {
      "cell_type": "markdown",
      "metadata": {
        "id": "AI3ZfQ1wUuLZ"
      },
      "source": [
        "##1-nn"
      ]
    },
    {
      "cell_type": "code",
      "metadata": {
        "id": "zJ25h4KrcZq6",
        "colab": {
          "base_uri": "https://localhost:8080/",
          "height": 301
        },
        "outputId": "1ec09bf7-5d7a-4c87-afaf-395438292300"
      },
      "source": [
        "decision_region(x_train, y_train, KNeighborsClassifier(n_neighbors=1).fit(x_train, y_train), title='Nearest neighbor method', xlabel='Sepal length', ylabel='Petal length')"
      ],
      "execution_count": 24,
      "outputs": [
        {
          "output_type": "display_data",
          "data": {
            "image/png": "[encoded data removed]",
            "text/plain": [
              "<Figure size 432x288 with 1 Axes>"
            ]
          },
          "metadata": {
            "tags": [],
            "needs_background": "light"
          }
        }
      ]
    },
    {
      "cell_type": "markdown",
      "metadata": {
        "id": "i_BZWzvKU7cc"
      },
      "source": [
        "##3-nn"
      ]
    },
    {
      "cell_type": "code",
      "metadata": {
        "id": "266YzkPCVADx",
        "colab": {
          "base_uri": "https://localhost:8080/",
          "height": 301
        },
        "outputId": "8a586a6b-13fc-4d51-c788-5bab2a22da18"
      },
      "source": [
        "decision_region(x_train, y_train, KNeighborsClassifier(n_neighbors = 3).fit(x_train, y_train), title='Nearest neighbor method', xlabel='Sepal length', ylabel='Petal length')"
      ],
      "execution_count": 25,
      "outputs": [
        {
          "output_type": "display_data",
          "data": {
            "image/png": "[encoded data removed]",
            "text/plain": [
              "<Figure size 432x288 with 1 Axes>"
            ]
          },
          "metadata": {
            "tags": [],
            "needs_background": "light"
          }
        }
      ]
    },
    {
      "cell_type": "markdown",
      "metadata": {
        "id": "4IOcRDpwU-al"
      },
      "source": [
        "##5-nn"
      ]
    },
    {
      "cell_type": "code",
      "metadata": {
        "id": "y9nhTJu5VGlw",
        "colab": {
          "base_uri": "https://localhost:8080/",
          "height": 301
        },
        "outputId": "b8e3f699-ee71-4f87-d935-a8669d018018"
      },
      "source": [
        "decision_region(x_train, y_train, KNeighborsClassifier().fit(x_train, y_train), title='Nearest neighbor method', xlabel='Sepal length', ylabel='Petal length')"
      ],
      "execution_count": 26,
      "outputs": [
        {
          "output_type": "display_data",
          "data": {
            "image/png": "[encoded data removed]",
            "text/plain": [
              "<Figure size 432x288 with 1 Axes>"
            ]
          },
          "metadata": {
            "tags": [],
            "needs_background": "light"
          }
        }
      ]
    },
    {
      "cell_type": "markdown",
      "metadata": {
        "id": "rYPvqCd4cZ2H"
      },
      "source": [
        "#[Problem 8] Learning by other methods"
      ]
    },
    {
      "cell_type": "markdown",
      "metadata": {
        "id": "VOycKSK7V0pm"
      },
      "source": [
        "##Nearest neighbor method\n",
        "*See from problem 5 to 7*"
      ]
    },
    {
      "cell_type": "markdown",
      "metadata": {
        "id": "1DEjgc3UWAY9"
      },
      "source": [
        "##Logistic regression"
      ]
    },
    {
      "cell_type": "markdown",
      "metadata": {
        "id": "v5-MM_JaYsGJ"
      },
      "source": [
        "###Learning and estimation"
      ]
    },
    {
      "cell_type": "code",
      "metadata": {
        "id": "amN9_WWGccUy"
      },
      "source": [
        "from sklearn.linear_model import LogisticRegression\n",
        "clf = LogisticRegression().fit(x_train, y_train)\n",
        "logis = clf.predict(x_test)"
      ],
      "execution_count": 27,
      "outputs": []
    },
    {
      "cell_type": "markdown",
      "metadata": {
        "id": "NCsHDyn_Y1qZ"
      },
      "source": [
        "###Evaluation"
      ]
    },
    {
      "cell_type": "code",
      "metadata": {
        "id": "oV-h21dBY3SO",
        "colab": {
          "base_uri": "https://localhost:8080/"
        },
        "outputId": "525da024-f2f2-455a-a68a-d335ab02403d"
      },
      "source": [
        "f1_score(y_test, logis, zero_division=1)"
      ],
      "execution_count": 28,
      "outputs": [
        {
          "output_type": "execute_result",
          "data": {
            "text/plain": [
              "0.8461538461538461"
            ]
          },
          "metadata": {
            "tags": []
          },
          "execution_count": 28
        }
      ]
    },
    {
      "cell_type": "markdown",
      "metadata": {
        "id": "7OSluN0ZZAY7"
      },
      "source": [
        "###Visualization"
      ]
    },
    {
      "cell_type": "code",
      "metadata": {
        "id": "llXVqm6DZFIW",
        "colab": {
          "base_uri": "https://localhost:8080/",
          "height": 301
        },
        "outputId": "d8a09dbd-4d77-4d65-aa04-4a5cea1f9801"
      },
      "source": [
        "decision_region(x_train, y_train, LogisticRegression().fit(x_train, y_train), title='Logistic regression', xlabel='Sepal length', ylabel='Petal length')"
      ],
      "execution_count": 29,
      "outputs": [
        {
          "output_type": "display_data",
          "data": {
            "image/png": "[encoded data removed]",
            "text/plain": [
              "<Figure size 432x288 with 1 Axes>"
            ]
          },
          "metadata": {
            "tags": [],
            "needs_background": "light"
          }
        }
      ]
    },
    {
      "cell_type": "markdown",
      "metadata": {
        "id": "Cw9oO4EBkQ7r"
      },
      "source": [
        "###Confusion matrix"
      ]
    },
    {
      "cell_type": "code",
      "metadata": {
        "id": "XgijFualkRGt",
        "colab": {
          "base_uri": "https://localhost:8080/"
        },
        "outputId": "b72a5295-5655-4a7d-dd37-54c74080d9f6"
      },
      "source": [
        "m_logis = confusion_matrix(y_test, logis)\n",
        "m_logis"
      ],
      "execution_count": 30,
      "outputs": [
        {
          "output_type": "execute_result",
          "data": {
            "text/plain": [
              "array([[11,  1],\n",
              "       [ 3, 10]])"
            ]
          },
          "metadata": {
            "tags": []
          },
          "execution_count": 30
        }
      ]
    },
    {
      "cell_type": "markdown",
      "metadata": {
        "id": "MyQrwHbUZ4PG"
      },
      "source": [
        "##SVM"
      ]
    },
    {
      "cell_type": "markdown",
      "metadata": {
        "id": "Zmhp76M5Z5RN"
      },
      "source": [
        "###Learning and estimation"
      ]
    },
    {
      "cell_type": "code",
      "metadata": {
        "id": "p6GtTX1tZ8Mv"
      },
      "source": [
        "from sklearn.pipeline import make_pipeline\n",
        "from sklearn.svm import SVC\n",
        "clf = make_pipeline(StandardScaler(), SVC()).fit(x_train, y_train)\n",
        "svm = clf.predict(x_test)"
      ],
      "execution_count": 31,
      "outputs": []
    },
    {
      "cell_type": "markdown",
      "metadata": {
        "id": "yIuFtj_LZ8W1"
      },
      "source": [
        "###Evaluation"
      ]
    },
    {
      "cell_type": "code",
      "metadata": {
        "id": "CamdiwXmaBxn",
        "colab": {
          "base_uri": "https://localhost:8080/"
        },
        "outputId": "57245eb6-945d-4a0c-9add-5a53bdc1c117"
      },
      "source": [
        "f1_score(y_test, svm, zero_division=1)"
      ],
      "execution_count": 32,
      "outputs": [
        {
          "output_type": "execute_result",
          "data": {
            "text/plain": [
              "0.8333333333333334"
            ]
          },
          "metadata": {
            "tags": []
          },
          "execution_count": 32
        }
      ]
    },
    {
      "cell_type": "markdown",
      "metadata": {
        "id": "aS7rF6MyaB-o"
      },
      "source": [
        "###Visualization"
      ]
    },
    {
      "cell_type": "code",
      "metadata": {
        "id": "1FO4s2BcaEhJ",
        "colab": {
          "base_uri": "https://localhost:8080/",
          "height": 301
        },
        "outputId": "cc4bbe3f-bf98-4b92-8d4d-bfd54eb11419"
      },
      "source": [
        "decision_region(x_train, y_train, SVC().fit(x_train, y_train), title='SVM', xlabel='Sepal length', ylabel='Petal length')"
      ],
      "execution_count": 33,
      "outputs": [
        {
          "output_type": "display_data",
          "data": {
            "image/png": "[encoded data removed]",
            "text/plain": [
              "<Figure size 432x288 with 1 Axes>"
            ]
          },
          "metadata": {
            "tags": [],
            "needs_background": "light"
          }
        }
      ]
    },
    {
      "cell_type": "markdown",
      "metadata": {
        "id": "1qQ_DATTrLBB"
      },
      "source": [
        "###Confusion matrix"
      ]
    },
    {
      "cell_type": "code",
      "metadata": {
        "id": "7dcj1Z99rP5P",
        "colab": {
          "base_uri": "https://localhost:8080/"
        },
        "outputId": "53761860-b7f0-46a2-bd45-4947d862faa9"
      },
      "source": [
        "m_svm = confusion_matrix(y_test, svm)\n",
        "m_svm"
      ],
      "execution_count": 34,
      "outputs": [
        {
          "output_type": "execute_result",
          "data": {
            "text/plain": [
              "array([[10,  2],\n",
              "       [ 2, 11]])"
            ]
          },
          "metadata": {
            "tags": []
          },
          "execution_count": 34
        }
      ]
    },
    {
      "cell_type": "markdown",
      "metadata": {
        "id": "EIfNn3AYaEwx"
      },
      "source": [
        "##Decision tree"
      ]
    },
    {
      "cell_type": "markdown",
      "metadata": {
        "id": "SvvGajHuaHhD"
      },
      "source": [
        "###Learning and estimation"
      ]
    },
    {
      "cell_type": "code",
      "metadata": {
        "id": "QD54gohFaJZ_"
      },
      "source": [
        "from sklearn.model_selection import cross_val_score\n",
        "from sklearn.tree import DecisionTreeClassifier\n",
        "clf = DecisionTreeClassifier().fit(x_train, y_train)\n",
        "cross_val_score(clf, x_train, y_train)\n",
        "dtree = clf.predict(x_test)"
      ],
      "execution_count": 35,
      "outputs": []
    },
    {
      "cell_type": "markdown",
      "metadata": {
        "id": "9sFfnS5CaJkK"
      },
      "source": [
        "###Evaluation"
      ]
    },
    {
      "cell_type": "code",
      "metadata": {
        "id": "XEaJB39raLHI",
        "colab": {
          "base_uri": "https://localhost:8080/"
        },
        "outputId": "0ce9bb68-0a2c-46f0-a17c-0725855e719a"
      },
      "source": [
        "f1_score(y_test, dtree, zero_division=1)"
      ],
      "execution_count": 36,
      "outputs": [
        {
          "output_type": "execute_result",
          "data": {
            "text/plain": [
              "0.8333333333333334"
            ]
          },
          "metadata": {
            "tags": []
          },
          "execution_count": 36
        }
      ]
    },
    {
      "cell_type": "markdown",
      "metadata": {
        "id": "blx0P7ZnaLeH"
      },
      "source": [
        "###Visualization"
      ]
    },
    {
      "cell_type": "code",
      "metadata": {
        "id": "e8Q4KhLpaOo_",
        "colab": {
          "base_uri": "https://localhost:8080/",
          "height": 301
        },
        "outputId": "741d9448-b7e8-4267-b8ce-b3fad520c5a6"
      },
      "source": [
        "decision_region(x_train, y_train, DecisionTreeClassifier().fit(x_train, y_train), title='Decision tree', xlabel='Sepal length', ylabel='Petal length')"
      ],
      "execution_count": 37,
      "outputs": [
        {
          "output_type": "display_data",
          "data": {
            "image/png": "[encoded data removed]",
            "text/plain": [
              "<Figure size 432x288 with 1 Axes>"
            ]
          },
          "metadata": {
            "tags": [],
            "needs_background": "light"
          }
        }
      ]
    },
    {
      "cell_type": "markdown",
      "metadata": {
        "id": "gKZPtUvQrMP1"
      },
      "source": [
        "###Confusion matrix"
      ]
    },
    {
      "cell_type": "code",
      "metadata": {
        "id": "kVImyzqGrM8w",
        "colab": {
          "base_uri": "https://localhost:8080/"
        },
        "outputId": "f3c8e1e3-ad40-43c9-dc0e-5f67eebdc48a"
      },
      "source": [
        "m_dtree = confusion_matrix(y_test, dtree)\n",
        "m_dtree"
      ],
      "execution_count": 38,
      "outputs": [
        {
          "output_type": "execute_result",
          "data": {
            "text/plain": [
              "array([[10,  2],\n",
              "       [ 2, 11]])"
            ]
          },
          "metadata": {
            "tags": []
          },
          "execution_count": 38
        }
      ]
    },
    {
      "cell_type": "markdown",
      "metadata": {
        "id": "5ZAXMTfmaO6R"
      },
      "source": [
        "##Random forest"
      ]
    },
    {
      "cell_type": "markdown",
      "metadata": {
        "id": "v2BDWgSuaUHs"
      },
      "source": [
        "###Learning and estimation"
      ]
    },
    {
      "cell_type": "code",
      "metadata": {
        "id": "9MHwWV_laYHS"
      },
      "source": [
        "from sklearn.ensemble import RandomForestClassifier\n",
        "clf = RandomForestClassifier().fit(x_train, y_train)\n",
        "ranf = clf.predict(x_test)"
      ],
      "execution_count": 39,
      "outputs": []
    },
    {
      "cell_type": "markdown",
      "metadata": {
        "id": "ykysz476aYUo"
      },
      "source": [
        "###Evaluation"
      ]
    },
    {
      "cell_type": "code",
      "metadata": {
        "id": "mmDpYgfHadcX",
        "colab": {
          "base_uri": "https://localhost:8080/"
        },
        "outputId": "c6cc7e4f-f808-4702-c8ca-51def2390fd7"
      },
      "source": [
        "f1_score(y_test, ranf, zero_division=1)"
      ],
      "execution_count": 40,
      "outputs": [
        {
          "output_type": "execute_result",
          "data": {
            "text/plain": [
              "0.7826086956521738"
            ]
          },
          "metadata": {
            "tags": []
          },
          "execution_count": 40
        }
      ]
    },
    {
      "cell_type": "markdown",
      "metadata": {
        "id": "TgyHxyemadoG"
      },
      "source": [
        "###Visualization"
      ]
    },
    {
      "cell_type": "code",
      "metadata": {
        "id": "e21xMvigaf8c",
        "colab": {
          "base_uri": "https://localhost:8080/",
          "height": 301
        },
        "outputId": "a6a53e7e-c708-4314-89f5-11bc9b643565"
      },
      "source": [
        "decision_region(x_train, y_train, RandomForestClassifier().fit(x_train, y_train), title='Random forest', xlabel='Sepal length', ylabel='Petal length')"
      ],
      "execution_count": 41,
      "outputs": [
        {
          "output_type": "display_data",
          "data": {
            "image/png": "[encoded data removed]",
            "text/plain": [
              "<Figure size 432x288 with 1 Axes>"
            ]
          },
          "metadata": {
            "tags": [],
            "needs_background": "light"
          }
        }
      ]
    },
    {
      "cell_type": "markdown",
      "metadata": {
        "id": "Ag2hUjsHrNrG"
      },
      "source": [
        "###Confusion matrix"
      ]
    },
    {
      "cell_type": "code",
      "metadata": {
        "id": "F8PiSTTLrORu",
        "colab": {
          "base_uri": "https://localhost:8080/"
        },
        "outputId": "91ff614b-95a4-4d33-9560-b3db1606574a"
      },
      "source": [
        "m_ranf = confusion_matrix(y_test, ranf)\n",
        "m_ranf"
      ],
      "execution_count": 42,
      "outputs": [
        {
          "output_type": "execute_result",
          "data": {
            "text/plain": [
              "array([[ 9,  3],\n",
              "       [ 2, 11]])"
            ]
          },
          "metadata": {
            "tags": []
          },
          "execution_count": 42
        }
      ]
    },
    {
      "cell_type": "markdown",
      "metadata": {
        "id": "7fyURGDerzrr"
      },
      "source": [
        "##Comparation"
      ]
    },
    {
      "cell_type": "code",
      "metadata": {
        "id": "4j67EK_8r3v7"
      },
      "source": [
        "table = np.hstack((m_nn5.reshape(4, 1), m_logis.reshape(4, 1), m_svm.reshape(4, 1), m_dtree.reshape(4, 1), m_ranf.reshape(4, 1)))\n",
        "table = pd.DataFrame(table, index = ['00', '01', '10', '11'], columns = ['Nearest neighbor', 'Logistic regression', 'SMV', 'Decision tree', 'Random forest'])"
      ],
      "execution_count": 43,
      "outputs": []
    },
    {
      "cell_type": "code",
      "metadata": {
        "id": "VShqcbCpw_t7",
        "colab": {
          "base_uri": "https://localhost:8080/",
          "height": 173
        },
        "outputId": "8c9833be-3d85-412e-8ec0-119e32c2938e"
      },
      "source": [
        "table"
      ],
      "execution_count": 44,
      "outputs": [
        {
          "output_type": "execute_result",
          "data": {
            "text/html": [
              "<div>\n",
              "<style scoped>\n",
              "    .dataframe tbody tr th:only-of-type {\n",
              "        vertical-align: middle;\n",
              "    }\n",
              "\n",
              "    .dataframe tbody tr th {\n",
              "        vertical-align: top;\n",
              "    }\n",
              "\n",
              "    .dataframe thead th {\n",
              "        text-align: right;\n",
              "    }\n",
              "</style>\n",
              "<table border=\"1\" class=\"dataframe\">\n",
              "  <thead>\n",
              "    <tr style=\"text-align: right;\">\n",
              "      <th></th>\n",
              "      <th>Nearest neighbor</th>\n",
              "      <th>Logistic regression</th>\n",
              "      <th>SMV</th>\n",
              "      <th>Decision tree</th>\n",
              "      <th>Random forest</th>\n",
              "    </tr>\n",
              "  </thead>\n",
              "  <tbody>\n",
              "    <tr>\n",
              "      <th>00</th>\n",
              "      <td>10</td>\n",
              "      <td>11</td>\n",
              "      <td>10</td>\n",
              "      <td>10</td>\n",
              "      <td>9</td>\n",
              "    </tr>\n",
              "    <tr>\n",
              "      <th>01</th>\n",
              "      <td>2</td>\n",
              "      <td>1</td>\n",
              "      <td>2</td>\n",
              "      <td>2</td>\n",
              "      <td>3</td>\n",
              "    </tr>\n",
              "    <tr>\n",
              "      <th>10</th>\n",
              "      <td>2</td>\n",
              "      <td>3</td>\n",
              "      <td>2</td>\n",
              "      <td>2</td>\n",
              "      <td>2</td>\n",
              "    </tr>\n",
              "    <tr>\n",
              "      <th>11</th>\n",
              "      <td>11</td>\n",
              "      <td>10</td>\n",
              "      <td>11</td>\n",
              "      <td>11</td>\n",
              "      <td>11</td>\n",
              "    </tr>\n",
              "  </tbody>\n",
              "</table>\n",
              "</div>"
            ],
            "text/plain": [
              "    Nearest neighbor  Logistic regression  SMV  Decision tree  Random forest\n",
              "00                10                   11   10             10              9\n",
              "01                 2                    1    2              2              3\n",
              "10                 2                    3    2              2              2\n",
              "11                11                   10   11             11             11"
            ]
          },
          "metadata": {
            "tags": []
          },
          "execution_count": 44
        }
      ]
    },
    {
      "cell_type": "markdown",
      "metadata": {
        "id": "b9d79vIE9Ei-"
      },
      "source": [
        "The table shows that Logistic regression is better for estimate the true negatives however, it ií also the worst for the true positives. The amount of samples are quite small so the result might have large variation."
      ]
    },
    {
      "cell_type": "markdown",
      "metadata": {
        "id": "jhtYG-8Jccww"
      },
      "source": [
        "#[Problem 9] (Advanced task) Comparison with and without standardization"
      ]
    },
    {
      "cell_type": "markdown",
      "metadata": {
        "id": "mrkKrkhvcf4I"
      },
      "source": [
        "#【問題10】（アドバンス課題）すべての目的変数を使用して精度が高い手法"
      ]
    }
  ]
}