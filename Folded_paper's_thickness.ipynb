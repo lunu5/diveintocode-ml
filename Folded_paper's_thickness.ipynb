{
  "nbformat": 4,
  "nbformat_minor": 0,
  "metadata": {
    "colab": {
      "name": "Folded_paper's_thickness.ipynb",
      "provenance": [],
      "authorship_tag": "ABX9TyNhQoJshKpv2q9ywBaJe51a",
      "include_colab_link": true
    },
    "kernelspec": {
      "name": "python3",
      "display_name": "Python 3"
    }
  },
  "cells": [
    {
      "cell_type": "markdown",
      "metadata": {
        "id": "view-in-github",
        "colab_type": "text"
      },
      "source": [
        "<a href=\"https://colab.research.google.com/github/lunu5/diveintocode-ml/blob/master/Folded_paper's_thickness.ipynb\" target=\"_parent\"><img src=\"https://colab.research.google.com/assets/colab-badge.svg\" alt=\"Open In Colab\"/></a>"
      ]
    },
    {
      "cell_type": "markdown",
      "metadata": {
        "id": "yI-FTeolhJ6l"
      },
      "source": [
        "#Code to calculate the thickness when the paper is folded *n* times"
      ]
    },
    {
      "cell_type": "code",
      "metadata": {
        "id": "3AKJ9SGN85_V"
      },
      "source": [
        "import time\r\n",
        "import matplotlib.pyplot as plt\r\n",
        "import numpy\r\n",
        "%matplotlib inline\r\n",
        "THICKNESS = 0.00008\r\n",
        "DISTANCE_TO_MOON = 384400\r\n",
        "fold_times = 43   # n = 43\r\n",
        "times_to_compare = 1000\r\n",
        "expo_list = [THICKNESS]\r\n",
        "for_list = [THICKNESS]\r\n",
        "expo_time = []\r\n",
        "for_time = []"
      ],
      "execution_count": 1,
      "outputs": []
    },
    {
      "cell_type": "markdown",
      "metadata": {
        "id": "18Se7zd1hrfb"
      },
      "source": [
        "##Model using the exponentiation arithmetic operator"
      ]
    },
    {
      "cell_type": "code",
      "metadata": {
        "id": "1Hl_ZuFihM2U"
      },
      "source": [
        "def fold_expo(n):\r\n",
        "  return THICKNESS*(2**n)"
      ],
      "execution_count": 2,
      "outputs": []
    },
    {
      "cell_type": "markdown",
      "metadata": {
        "id": "9aEHdqZ5-u3K"
      },
      "source": [
        "Execution time:"
      ]
    },
    {
      "cell_type": "code",
      "metadata": {
        "id": "tVL5_EQyk7SA"
      },
      "source": [
        "start = time.time()\r\n",
        "t_43 = fold_expo(fold_times)\r\n",
        "end = time.time()"
      ],
      "execution_count": 3,
      "outputs": []
    },
    {
      "cell_type": "markdown",
      "metadata": {
        "id": "FOw2Vqj4-zhh"
      },
      "source": [
        "Result:"
      ]
    },
    {
      "cell_type": "code",
      "metadata": {
        "colab": {
          "base_uri": "https://localhost:8080/"
        },
        "id": "iN_Ozwy17266",
        "outputId": "9fe4e54b-00c9-4dde-ed5f-aee9154a11f1"
      },
      "source": [
        "print(\"Thickness: {: .2f} kilometers\".format(t_43/1000))\r\n",
        "print(\"Time taken: {} s\".format(end - start))"
      ],
      "execution_count": 4,
      "outputs": [
        {
          "output_type": "stream",
          "text": [
            "Thickness:  703687.44 kilometers\n",
            "Time taken: 7.557868957519531e-05 s\n"
          ],
          "name": "stdout"
        }
      ]
    },
    {
      "cell_type": "markdown",
      "metadata": {
        "id": "lkTqvhLndE4I"
      },
      "source": [
        "Distance to the moon = 384400 km"
      ]
    },
    {
      "cell_type": "markdown",
      "metadata": {
        "id": "RDp6rYHd-8ER"
      },
      "source": [
        " Line graph:"
      ]
    },
    {
      "cell_type": "code",
      "metadata": {
        "id": "04dfTnVH-YIl"
      },
      "source": [
        "for i in range(fold_times):\r\n",
        "  expo_list.append(fold_expo(i))"
      ],
      "execution_count": 5,
      "outputs": []
    },
    {
      "cell_type": "markdown",
      "metadata": {
        "id": "-7otNuqzPmWi"
      },
      "source": [
        "**1**:"
      ]
    },
    {
      "cell_type": "code",
      "metadata": {
        "colab": {
          "base_uri": "https://localhost:8080/",
          "height": 241
        },
        "id": "SOSWW1bpPi2U",
        "outputId": "3ca4f217-25fb-4c64-e91a-7ca8d6f35b55"
      },
      "source": [
        "plt.title(\"Thickness of folded paper\")\r\n",
        "plt.xlabel(\"Number of folds\")\r\n",
        "plt.ylabel(\"Thickness[m]\")\r\n",
        "plt.tick_params(direction = 'out', length = 10, width = 1, pad = 5, labelsize = 15, colors = 'r')\r\n",
        "plt.plot(expo_list, color = 'black', marker = 'd', linestyle = 'dashed', linewidth = 1, markersize = 4)\r\n",
        "plt.show()"
      ],
      "execution_count": 6,
      "outputs": [
        {
          "output_type": "display_data",
          "data": {
            "image/png": "[encoded data removed]",
            "text/plain": [
              "<Figure size 432x288 with 1 Axes>"
            ]
          },
          "metadata": {
            "tags": [],
            "needs_background": "light"
          }
        }
      ]
    },
    {
      "cell_type": "markdown",
      "metadata": {
        "id": "j-7fX0iCQzXl"
      },
      "source": [
        "**2**:"
      ]
    },
    {
      "cell_type": "code",
      "metadata": {
        "colab": {
          "base_uri": "https://localhost:8080/",
          "height": 233
        },
        "id": "6RIPSgBKQ1kB",
        "outputId": "01d951e4-be67-4170-fa68-ab3d1a0f20c9"
      },
      "source": [
        "plt.tick_params(direction = 'in', length = 5, width = 1, pad = 10, labelsize = 15, colors = 'c')\r\n",
        "plt.plot(expo_list, color = 'blue', marker = '2', linestyle = 'dotted', linewidth = 1, markersize = 7)\r\n",
        "plt.show()"
      ],
      "execution_count": 7,
      "outputs": [
        {
          "output_type": "display_data",
          "data": {
            "image/png": "[encoded data removed]",
            "text/plain": [
              "<Figure size 432x288 with 1 Axes>"
            ]
          },
          "metadata": {
            "tags": [],
            "needs_background": "dark"
          }
        }
      ]
    },
    {
      "cell_type": "markdown",
      "metadata": {
        "id": "xYCV62wSQ4gJ"
      },
      "source": [
        "**3**:"
      ]
    },
    {
      "cell_type": "code",
      "metadata": {
        "colab": {
          "base_uri": "https://localhost:8080/",
          "height": 234
        },
        "id": "GBMrg0hmQ6Zi",
        "outputId": "d0931e00-c680-4a3e-fdd7-ba442adf8462"
      },
      "source": [
        "plt.tick_params(direction = 'inout', length = 10, width = 1, pad = 10, labelsize = 15, colors = 'm')\r\n",
        "plt.plot(expo_list, color = 'purple', marker = 'H', linestyle = 'dashdot', linewidth = 1, markersize = 4)\r\n",
        "plt.show()"
      ],
      "execution_count": 8,
      "outputs": [
        {
          "output_type": "display_data",
          "data": {
            "image/png": "[encoded data removed]",
            "text/plain": [
              "<Figure size 432x288 with 1 Axes>"
            ]
          },
          "metadata": {
            "tags": [],
            "needs_background": "light"
          }
        }
      ]
    },
    {
      "cell_type": "markdown",
      "metadata": {
        "id": "rUw_4lytiLGg"
      },
      "source": [
        "##Model using a for statement"
      ]
    },
    {
      "cell_type": "code",
      "metadata": {
        "id": "prqW3AVMlLlv"
      },
      "source": [
        "def fold_for(n):\r\n",
        "  thickness = THICKNESS\r\n",
        "  for i in range(n):\r\n",
        "    thickness*=2\r\n",
        "  return thickness"
      ],
      "execution_count": 9,
      "outputs": []
    },
    {
      "cell_type": "markdown",
      "metadata": {
        "id": "bC0VpiO2_qdI"
      },
      "source": [
        "Execution time:"
      ]
    },
    {
      "cell_type": "code",
      "metadata": {
        "id": "EH8aNmGGlzFA"
      },
      "source": [
        "start = time.time()\r\n",
        "t_43 = fold_for(fold_times)\r\n",
        "end = time.time()"
      ],
      "execution_count": 10,
      "outputs": []
    },
    {
      "cell_type": "markdown",
      "metadata": {
        "id": "dtuMnKlNACFt"
      },
      "source": [
        "Result:"
      ]
    },
    {
      "cell_type": "code",
      "metadata": {
        "colab": {
          "base_uri": "https://localhost:8080/"
        },
        "id": "-5C20UVk8RcU",
        "outputId": "5722c1ca-d979-4905-f945-71d89b2daa55"
      },
      "source": [
        "print(\"Thickness: {: .2f} kilometers\".format(t_43/1000))\r\n",
        "print(\"Time taken: {} s\".format(end - start))"
      ],
      "execution_count": 11,
      "outputs": [
        {
          "output_type": "stream",
          "text": [
            "Thickness:  703687.44 kilometers\n",
            "Time taken: 7.700920104980469e-05 s\n"
          ],
          "name": "stdout"
        }
      ]
    },
    {
      "cell_type": "markdown",
      "metadata": {
        "id": "olnrDzKBdXle"
      },
      "source": [
        "Distance to moon = 384400 km"
      ]
    },
    {
      "cell_type": "markdown",
      "metadata": {
        "id": "bLJXzJXEAFR9"
      },
      "source": [
        "Line graph:"
      ]
    },
    {
      "cell_type": "code",
      "metadata": {
        "id": "2n7cgR7q-sh6"
      },
      "source": [
        "for i in range(fold_times):\r\n",
        "  for_list.append(fold_for(i))"
      ],
      "execution_count": 12,
      "outputs": []
    },
    {
      "cell_type": "markdown",
      "metadata": {
        "id": "x5YQKQQMOcX0"
      },
      "source": [
        "**1**:"
      ]
    },
    {
      "cell_type": "code",
      "metadata": {
        "colab": {
          "base_uri": "https://localhost:8080/",
          "height": 242
        },
        "id": "NKISF_cgOZRD",
        "outputId": "4a4f68ea-5091-4f9d-c1eb-47f794677fc0"
      },
      "source": [
        "plt.title(\"Thickness of folded paper\")\r\n",
        "plt.xlabel(\"Number of folds\")\r\n",
        "plt.ylabel(\"Thickness[m]\")\r\n",
        "plt.tick_params(direction = 'out', length = 10, width = 1, pad = 10, labelsize = 15, colors = 'r')\r\n",
        "plt.plot(for_list, color = 'purple', marker = 'x', linestyle = 'dashed', linewidth=1, markersize = 5)\r\n",
        "plt.show()"
      ],
      "execution_count": 13,
      "outputs": [
        {
          "output_type": "display_data",
          "data": {
            "image/png": "[encoded data removed]",
            "text/plain": [
              "<Figure size 432x288 with 1 Axes>"
            ]
          },
          "metadata": {
            "tags": [],
            "needs_background": "light"
          }
        }
      ]
    },
    {
      "cell_type": "markdown",
      "metadata": {
        "id": "eXBPvr8XOqwE"
      },
      "source": [
        "**2**:"
      ]
    },
    {
      "cell_type": "code",
      "metadata": {
        "colab": {
          "base_uri": "https://localhost:8080/",
          "height": 233
        },
        "id": "OU-eg8lyNg-I",
        "outputId": "5661bc6b-10e8-4a6b-b51f-e965dbacaeac"
      },
      "source": [
        "plt.tick_params(direction = 'out', length = 10, width = 1, pad = 2, labelsize = 15, colors = 'r')\r\n",
        "plt.plot(for_list, 'c-.*')\r\n",
        "plt.show()"
      ],
      "execution_count": 14,
      "outputs": [
        {
          "output_type": "display_data",
          "data": {
            "image/png": "[encoded data removed]",
            "text/plain": [
              "<Figure size 432x288 with 1 Axes>"
            ]
          },
          "metadata": {
            "tags": [],
            "needs_background": "light"
          }
        }
      ]
    },
    {
      "cell_type": "markdown",
      "metadata": {
        "id": "199TVZJxPC0J"
      },
      "source": [
        "**3**:"
      ]
    },
    {
      "cell_type": "code",
      "metadata": {
        "colab": {
          "base_uri": "https://localhost:8080/",
          "height": 233
        },
        "id": "eF22DwLQPF5U",
        "outputId": "b032d89c-72c3-42ac-96e9-f334f02c53b9"
      },
      "source": [
        "plt.tick_params(direction = 'out', length = 10, width = 1, pad = 2, labelsize = 15, colors = 'b')\r\n",
        "plt.plot(for_list, 'm-|')\r\n",
        "plt.show()"
      ],
      "execution_count": 15,
      "outputs": [
        {
          "output_type": "display_data",
          "data": {
            "image/png": "[encoded data removed]",
            "text/plain": [
              "<Figure size 432x288 with 1 Axes>"
            ]
          },
          "metadata": {
            "tags": [],
            "needs_background": "light"
          }
        }
      ]
    },
    {
      "cell_type": "markdown",
      "metadata": {
        "id": "gytKdwURehd4"
      },
      "source": [
        "#Comparation"
      ]
    },
    {
      "cell_type": "markdown",
      "metadata": {
        "id": "DFRjmYoUhGH0"
      },
      "source": [
        "##Exponentiation method"
      ]
    },
    {
      "cell_type": "code",
      "metadata": {
        "colab": {
          "base_uri": "https://localhost:8080/"
        },
        "id": "N_pqNTQSf4uW",
        "outputId": "78cdc0cd-e9c5-4572-f106-3ad9bb8ef875"
      },
      "source": [
        "%%timeit\r\n",
        "start = time.time()\r\n",
        "fold_expo(times_to_compare)\r\n",
        "end = time.time()\r\n",
        "expo_time.append(end - start)"
      ],
      "execution_count": 16,
      "outputs": [
        {
          "output_type": "stream",
          "text": [
            "The slowest run took 7.92 times longer than the fastest. This could mean that an intermediate result is being cached.\n",
            "1000000 loops, best of 5: 1.38 µs per loop\n"
          ],
          "name": "stdout"
        }
      ]
    },
    {
      "cell_type": "markdown",
      "metadata": {
        "id": "wtfyIozIh7C8"
      },
      "source": [
        "Average time taken:"
      ]
    },
    {
      "cell_type": "code",
      "metadata": {
        "colab": {
          "base_uri": "https://localhost:8080/"
        },
        "id": "GvbuqvtIiP4d",
        "outputId": "993f60f7-7528-417e-893e-4d6b8ad6259a"
      },
      "source": [
        "print(\"{} s\".format(numpy.mean(expo_time)))"
      ],
      "execution_count": 17,
      "outputs": [
        {
          "output_type": "stream",
          "text": [
            "1.1686652135924303e-06 s\n"
          ],
          "name": "stdout"
        }
      ]
    },
    {
      "cell_type": "markdown",
      "metadata": {
        "id": "yZ6lqfbhj64L"
      },
      "source": [
        "##For statement method"
      ]
    },
    {
      "cell_type": "code",
      "metadata": {
        "colab": {
          "base_uri": "https://localhost:8080/"
        },
        "id": "i-hIdUOBkFyb",
        "outputId": "5fb597d7-559c-4881-98de-deec03083c84"
      },
      "source": [
        "%%timeit\r\n",
        "start = time.time()\r\n",
        "fold_for(times_to_compare)\r\n",
        "end = time.time()\r\n",
        "for_time.append(end - start)"
      ],
      "execution_count": 18,
      "outputs": [
        {
          "output_type": "stream",
          "text": [
            "10000 loops, best of 5: 51.3 µs per loop\n"
          ],
          "name": "stdout"
        }
      ]
    },
    {
      "cell_type": "markdown",
      "metadata": {
        "id": "54he0snOkkXa"
      },
      "source": [
        "Average time taken:"
      ]
    },
    {
      "cell_type": "code",
      "metadata": {
        "colab": {
          "base_uri": "https://localhost:8080/"
        },
        "id": "PoIkuxx3koUX",
        "outputId": "8376fa10-2e02-402e-ac94-59b017cc8e96"
      },
      "source": [
        "print(\"{} s\".format(numpy.mean(for_time)))"
      ],
      "execution_count": 19,
      "outputs": [
        {
          "output_type": "stream",
          "text": [
            "5.226296693922012e-05 s\n"
          ],
          "name": "stdout"
        }
      ]
    },
    {
      "cell_type": "markdown",
      "metadata": {
        "id": "h1a5waglldmS"
      },
      "source": [
        "##Conclusion\r\n",
        "\r\n",
        "\r\n",
        "> When the repeat times is small, the for statement method is quite faster than the exponentiation method.\r\n",
        "\r\n",
        "\r\n",
        "> However, as the repetition increase, excution times of the for method rapidly rise while the time taken for the other seems to remain stable.\r\n",
        "\r\n",
        "\r\n",
        "> To sum up, the more repetition, the more slower the for method becomes compared to the other one.\r\n",
        "\r\n",
        "\r\n",
        "\r\n",
        "\r\n",
        "\r\n",
        "\r\n"
      ]
    }
  ]
}