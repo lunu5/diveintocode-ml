{
  "nbformat": 4,
  "nbformat_minor": 0,
  "metadata": {
    "colab": {
      "name": "Sorori Shinzaemon problem.ipynb",
      "provenance": [],
      "collapsed_sections": [],
      "authorship_tag": "ABX9TyNuTfansgt56Nd9NazxZmXP",
      "include_colab_link": true
    },
    "kernelspec": {
      "name": "python3",
      "display_name": "Python 3"
    }
  },
  "cells": [
    {
      "cell_type": "markdown",
      "metadata": {
        "id": "view-in-github",
        "colab_type": "text"
      },
      "source": [
        "<a href=\"https://colab.research.google.com/github/lunu5/diveintocode-ml/blob/master/Sorori_Shinzaemon_problem.ipynb\" target=\"_parent\"><img src=\"https://colab.research.google.com/assets/colab-badge.svg\" alt=\"Open In Colab\"/></a>"
      ]
    },
    {
      "cell_type": "markdown",
      "metadata": {
        "id": "6KcucbzYRsqj"
      },
      "source": [
        "#Sorori Shinzaemon problem"
      ]
    },
    {
      "cell_type": "markdown",
      "metadata": {
        "id": "pYnGQxq5R_zz"
      },
      "source": [
        "##【Problem 1] Number of grains of rice on the 100th day"
      ]
    },
    {
      "cell_type": "code",
      "metadata": {
        "id": "fNjuwLAVRgOq"
      },
      "source": [
        "import time\r\n",
        "import matplotlib.pyplot as plt\r\n",
        "import numpy\r\n",
        "%matplotlib inline\r\n",
        "day = 40\r\n",
        "list_n_grains = []\r\n",
        "list_total_grains = []\r\n",
        "\r\n",
        "def compute_sorori_shinzaemon(day=100):\r\n",
        "    \"\"\"\r\n",
        "    A function that verifies the anecdote of rice by Sorori Shinzaemon. Calculate the number of rice grains per day.\r\n",
        "    Parameteres\r\n",
        "    --------------\r\n",
        "    day: int\r\n",
        "        Number of days to get rice (default : 100)\r\n",
        "    Returns\r\n",
        "    --------------\r\n",
        "    list_n_grains : list\r\n",
        "        List of the number of rice you get one day (the length of the list is equal to day)\r\n",
        "    list_total_grains : list\r\n",
        "        List of the total number of rice you will receive by a certain day (the length of the list will be equal to day)\r\n",
        "    \"\"\"\r\n",
        "    grain_per_day = 0\r\n",
        "    grain_total = 0\r\n",
        "    for i in range(day):\r\n",
        "      grain_per_day = 2**i\r\n",
        "      grain_total += grain_per_day\r\n",
        "      list_n_grains.append(grain_per_day)\r\n",
        "      list_total_grains.append(grain_total)\r\n",
        "    pass\r\n",
        "    return list_n_grains, list_total_grains\r\n",
        "list_n_grains, list_total_grains = compute_sorori_shinzaemon(day=10)"
      ],
      "execution_count": 1,
      "outputs": []
    },
    {
      "cell_type": "markdown",
      "metadata": {
        "id": "l73jl82TXUdX"
      },
      "source": [
        "Result:"
      ]
    },
    {
      "cell_type": "code",
      "metadata": {
        "colab": {
          "base_uri": "https://localhost:8080/"
        },
        "id": "rSCu3ZNSXYoC",
        "outputId": "5b420d84-4153-46a6-b7e6-cc637a6b422b"
      },
      "source": [
        "print(\"Grains of rice received in total by day 100: {} grains\".format(compute_sorori_shinzaemon()[1][99]))"
      ],
      "execution_count": 2,
      "outputs": [
        {
          "output_type": "stream",
          "text": [
            "Grains of rice received in total by day 100: 1237940039285380274899124223 grains\n"
          ],
          "name": "stdout"
        }
      ]
    },
    {
      "cell_type": "markdown",
      "metadata": {
        "id": "UAlULbFkZPxW"
      },
      "source": [
        "Line graph:"
      ]
    },
    {
      "cell_type": "code",
      "metadata": {
        "colab": {
          "base_uri": "https://localhost:8080/",
          "height": 303
        },
        "id": "CY0gn_0iZSjT",
        "outputId": "532f3740-9896-464a-e7d3-f3bf2c3961b9"
      },
      "source": [
        "plt.title(\"Grains of rice record\")\r\n",
        "plt.xlabel(\"Day\")\r\n",
        "plt.ylabel(\"Grains of rice\")\r\n",
        "plt.tick_params(direction = 'in', length = 5, width = 1, pad = 10, labelsize = 15, colors = 'c')\r\n",
        "plt.plot(list_total_grains, color = 'blue', marker = '2', linestyle = 'dotted', linewidth = 1, markersize = 7)\r\n",
        "plt.show()"
      ],
      "execution_count": 3,
      "outputs": [
        {
          "output_type": "display_data",
          "data": {
            "image/png": "[encoded data removed]",
            "text/plain": [
              "<Figure size 432x288 with 1 Axes>"
            ]
          },
          "metadata": {
            "tags": [],
            "needs_background": "dark"
          }
        }
      ]
    },
    {
      "cell_type": "markdown",
      "metadata": {
        "id": "Os3Ozqy9nsNj"
      },
      "source": [
        "##【Problem 2] Number of rice grains outside of the 100th day"
      ]
    },
    {
      "cell_type": "markdown",
      "metadata": {
        "id": "bYD_daYqRWDD"
      },
      "source": [
        "Result:"
      ]
    },
    {
      "cell_type": "code",
      "metadata": {
        "id": "FMHHyKMUnuMq"
      },
      "source": [
        "''' reset lists '''\r\n",
        "list_n_grains.clear()\r\n",
        "list_total_grains.clear()"
      ],
      "execution_count": 4,
      "outputs": []
    },
    {
      "cell_type": "markdown",
      "metadata": {
        "id": "i7MPO4yLzsGD"
      },
      "source": [
        "Line graph:"
      ]
    },
    {
      "cell_type": "code",
      "metadata": {
        "colab": {
          "base_uri": "https://localhost:8080/",
          "height": 303
        },
        "id": "WE0_Vt5PzvnD",
        "outputId": "f4246187-c74b-443e-b12f-90aff36be365"
      },
      "source": [
        "plt.title(\"Grains of rice record\")\r\n",
        "plt.xlabel(\"Day\")\r\n",
        "plt.ylabel(\"Grains of rice\")\r\n",
        "plt.tick_params(direction = 'in', length = 5, width = 1, pad = 10, labelsize = 15, colors = 'c')\r\n",
        "plt.plot(list_total_grains, color = 'blue', marker = '2', linestyle = 'dotted', linewidth = 1, markersize = 7)\r\n",
        "plt.show()"
      ],
      "execution_count": 5,
      "outputs": [
        {
          "output_type": "display_data",
          "data": {
            "image/png": "[encoded data removed]",
            "text/plain": [
              "<Figure size 432x288 with 1 Axes>"
            ]
          },
          "metadata": {
            "tags": [],
            "needs_background": "dark"
          }
        }
      ]
    },
    {
      "cell_type": "markdown",
      "metadata": {
        "id": "_kRsAkeR2VsY"
      },
      "source": [
        "\r\n",
        "\r\n",
        "##【Problem 3] How many people can live for how many days with the rice we get?\r\n",
        "\r\n"
      ]
    },
    {
      "cell_type": "code",
      "metadata": {
        "id": "1ID2ftKMMl3I"
      },
      "source": [
        "course_duration = 90\r\n",
        "people_in_class = 60\r\n",
        "GRAINS_NEEDED_PER_DAY = 19200 # this information is given at https://www.answers.com/Q/How_many_grains_of_rice_to_feed_a_person_for_a_day\r\n",
        "\r\n",
        "def day_can_live(people = 100, day = 100):\r\n",
        "    \"\"\"\r\n",
        "    A function that caculate the number of day 1 person can live with the input number of people and number of days.\r\n",
        "    Parameteres\r\n",
        "    --------------\r\n",
        "    day: int\r\n",
        "        Number of days to get rice (default : 100)\r\n",
        "    people: int\r\n",
        "        Number of people (default : 100)\r\n",
        "\r\n",
        "    Returns \r\n",
        "    --------------\r\n",
        "    number of day 1 person can live\r\n",
        "    \"\"\"\r\n",
        "    rice_grains = compute_sorori_shinzaemon(day)[1][day - 1]\r\n",
        "    grains_per_person = rice_grains/people\r\n",
        "    return grains_per_person/GRAINS_NEEDED_PER_DAY # number of day 1 person can live\r\n"
      ],
      "execution_count": 6,
      "outputs": []
    },
    {
      "cell_type": "markdown",
      "metadata": {
        "id": "p86NydqoRbOx"
      },
      "source": [
        "Result:"
      ]
    },
    {
      "cell_type": "code",
      "metadata": {
        "colab": {
          "base_uri": "https://localhost:8080/"
        },
        "id": "jFA1P1T1Rcyh",
        "outputId": "a783ef60-e01e-49c5-a186-501240b9ceef"
      },
      "source": [
        "print(\"Number of day each person can live with the number of rice grains recieved in {} days for total {} people: {} days\".format(course_duration, people_in_class,day_can_live(people_in_class, course_duration)))"
      ],
      "execution_count": 7,
      "outputs": [
        {
          "output_type": "stream",
          "text": [
            "Number of day each person can live with the number of rice grains recieved in 90 days for total 60 people: 1.074600728546337e+21 days\n"
          ],
          "name": "stdout"
        }
      ]
    }
  ]
}