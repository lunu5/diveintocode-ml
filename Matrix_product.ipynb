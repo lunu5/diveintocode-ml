{
  "nbformat": 4,
  "nbformat_minor": 0,
  "metadata": {
    "colab": {
      "name": "Matrix product.ipynb",
      "provenance": [],
      "authorship_tag": "ABX9TyMwh7Lx0pL7zqYSgwGR4A0u",
      "include_colab_link": true
    },
    "kernelspec": {
      "display_name": "Python 3",
      "name": "python3"
    }
  },
  "cells": [
    {
      "cell_type": "markdown",
      "metadata": {
        "id": "view-in-github",
        "colab_type": "text"
      },
      "source": [
        "<a href=\"https://colab.research.google.com/github/lunu5/diveintocode-ml/blob/master/Matrix_product.ipynb\" target=\"_parent\"><img src=\"https://colab.research.google.com/assets/colab-badge.svg\" alt=\"Open In Colab\"/></a>"
      ]
    },
    {
      "cell_type": "code",
      "metadata": {
        "id": "nJMzum9txOb_"
      },
      "source": [
        "import numpy as np\r\n",
        "a_ndarray = np.array([[-1, 2, 3], [4, -5, 6], [7, 8, -9]])\r\n",
        "b_ndarray = np.array([[0, 2, 1], [0, 2, -8], [2, 9, -1]])"
      ],
      "execution_count": 1,
      "outputs": []
    },
    {
      "cell_type": "markdown",
      "metadata": {
        "id": "TsPdBQl43iV3"
      },
      "source": [
        "#[Problem 1] Matrix product is calculated manually\r\n",
        "$$\r\n",
        "AB = \r\n",
        "\\left[\r\n",
        "\\begin{array}{ccc}\r\n",
        "  (-1)\\times0+2\\times0+3\\times2 & (-1)\\times2+2\\times2+3\\times9 & (-1)\\times1+2\\times(-8)+3\\times(-1) \\\\\r\n",
        "  4\\times0+(-5)\\times0+6\\times2 & 4\\times2+(-5)\\times2+6\\times9 & 4\\times1+(-5)\\times(-8)+6\\times(-1) \\\\\u0018\u0018\r\n",
        "  7\\times0+8\\times0+(-9)\\times2 & -7\\times0+8\\times2+(-9)\\times9 & 7\\times1+8\\times(-8)+(-9)\\times(-1)\r\n",
        "\\end{array}\r\n",
        "\\right]\r\n",
        "=\\left[\r\n",
        "\\begin{array}{ccc}\r\n",
        "  6 & 29 & -20 \\\\\r\n",
        "  12 & 52 & 38 \\\\\u0018\u0018\r\n",
        "  -18 & -51 & -48\r\n",
        "\\end{array}\r\n",
        "\\right]\r\n",
        "$$\r\n"
      ]
    },
    {
      "cell_type": "markdown",
      "metadata": {
        "id": "htgTkZ3i3vfh"
      },
      "source": [
        "#[Problem 2] Calculation by NumPy function"
      ]
    },
    {
      "cell_type": "markdown",
      "metadata": {
        "id": "qmVrsSRfySsM"
      },
      "source": [
        "##Using ```np.matmul()```"
      ]
    },
    {
      "cell_type": "code",
      "metadata": {
        "colab": {
          "base_uri": "https://localhost:8080/"
        },
        "id": "Sa5hTngexLqA",
        "outputId": "b9b2bbe4-aa4d-48fa-c8ce-46617b77c17d"
      },
      "source": [
        "print(\"Result when using np.matmul():\\n{}\".format(np.matmul(a_ndarray, b_ndarray)))"
      ],
      "execution_count": 2,
      "outputs": [
        {
          "output_type": "stream",
          "text": [
            "Result when using np.matmul():\n",
            "[[  6  29 -20]\n",
            " [ 12  52  38]\n",
            " [-18 -51 -48]]\n"
          ],
          "name": "stdout"
        }
      ]
    },
    {
      "cell_type": "markdown",
      "metadata": {
        "id": "294E5lNHybaI"
      },
      "source": [
        "##Using ```np.dot()```"
      ]
    },
    {
      "cell_type": "code",
      "metadata": {
        "colab": {
          "base_uri": "https://localhost:8080/"
        },
        "id": "N1_VOVRnyoua",
        "outputId": "637cabff-991f-4724-c5b4-00ed6233a6ef"
      },
      "source": [
        "print(\"Result when using np.dot():\\n{}\".format(np.dot(a_ndarray, b_ndarray)))"
      ],
      "execution_count": 3,
      "outputs": [
        {
          "output_type": "stream",
          "text": [
            "Result when using np.dot():\n",
            "[[  6  29 -20]\n",
            " [ 12  52  38]\n",
            " [-18 -51 -48]]\n"
          ],
          "name": "stdout"
        }
      ]
    },
    {
      "cell_type": "markdown",
      "metadata": {
        "id": "SczBsgvbyxjg"
      },
      "source": [
        "##Using ```@``` operator"
      ]
    },
    {
      "cell_type": "code",
      "metadata": {
        "colab": {
          "base_uri": "https://localhost:8080/"
        },
        "id": "jixkQPXby3vC",
        "outputId": "c733f2fe-c9c9-4e65-be3a-22a5c9dcb27f"
      },
      "source": [
        "print(\"Result when using @ operator:\\n{}\".format(a_ndarray @ b_ndarray))"
      ],
      "execution_count": 4,
      "outputs": [
        {
          "output_type": "stream",
          "text": [
            "Result when using @ operator:\n",
            "[[  6  29 -20]\n",
            " [ 12  52  38]\n",
            " [-18 -51 -48]]\n"
          ],
          "name": "stdout"
        }
      ]
    },
    {
      "cell_type": "markdown",
      "metadata": {
        "id": "Cx7SPPBXzN1J"
      },
      "source": [
        "##Hand calculation from scratch implementation using NumPy"
      ]
    },
    {
      "cell_type": "code",
      "metadata": {
        "colab": {
          "base_uri": "https://localhost:8080/"
        },
        "id": "HeEfmViRzRSZ",
        "outputId": "a6326ad7-7319-4413-df0a-3d0fb536749f"
      },
      "source": [
        "prod = np.array([[a_ndarray[0][0]*b_ndarray[0][0] + a_ndarray[0][1]*b_ndarray[1][0] + a_ndarray[0][2]*b_ndarray[2][0], a_ndarray[0][0]*b_ndarray[0][1] + a_ndarray[0][1]*b_ndarray[1][1] + a_ndarray[0][2]*b_ndarray[2][1], a_ndarray[0][0]*b_ndarray[0][2] + a_ndarray[0][1]*b_ndarray[1][2] + a_ndarray[0][2]*b_ndarray[2][2]],\r\n",
        "                 [a_ndarray[1][0]*b_ndarray[0][0] + a_ndarray[1][1]*b_ndarray[1][0] + a_ndarray[1][2]*b_ndarray[2][0], a_ndarray[1][0]*b_ndarray[0][1] + a_ndarray[1][1]*b_ndarray[1][1] + a_ndarray[1][2]*b_ndarray[2][1], a_ndarray[1][0]*b_ndarray[0][2] + a_ndarray[1][1]*b_ndarray[1][2] + a_ndarray[1][2]*b_ndarray[2][2]],\r\n",
        "                 [a_ndarray[2][0]*b_ndarray[0][0] + a_ndarray[2][1]*b_ndarray[1][0] + a_ndarray[2][2]*b_ndarray[2][0], a_ndarray[2][0]*b_ndarray[0][1] + a_ndarray[2][1]*b_ndarray[1][1] + a_ndarray[2][2]*b_ndarray[2][1], a_ndarray[2][0]*b_ndarray[0][2] + a_ndarray[2][1]*b_ndarray[1][2] + a_ndarray[2][2]*b_ndarray[2][2]]])\r\n",
        "print(\"Result when using hand calculation from scratch implementation using NumPy:\\n{}\".format(prod))"
      ],
      "execution_count": 5,
      "outputs": [
        {
          "output_type": "stream",
          "text": [
            "Result when using hand calculation from scratch implementation using NumPy:\n",
            "[[  6  29 -20]\n",
            " [ 12  52  38]\n",
            " [-18 -51 -48]]\n"
          ],
          "name": "stdout"
        }
      ]
    },
    {
      "cell_type": "markdown",
      "metadata": {
        "id": "GOlaRKN-4pIv"
      },
      "source": [
        "#[Problem 3] Implementation of calculation of a certain element"
      ]
    },
    {
      "cell_type": "code",
      "metadata": {
        "colab": {
          "base_uri": "https://localhost:8080/"
        },
        "id": "5l0ZVw-E4Yay",
        "outputId": "841353d6-cf83-4f14-aa4f-8793964669bb"
      },
      "source": [
        "result = np.zeros((3, 3))\r\n",
        "for i in range(len(a_ndarray)):\r\n",
        "   for j in range(len(b_ndarray[0])):\r\n",
        "       for k in range(len(b_ndarray)):\r\n",
        "           result[i][j] += a_ndarray[i][k] * b_ndarray[k][j]\r\n",
        "print(\"Result when using NumPy functions:\\n{}\".format(result))"
      ],
      "execution_count": 6,
      "outputs": [
        {
          "output_type": "stream",
          "text": [
            "Result when using NumPy functions:\n",
            "[[  6.  29. -20.]\n",
            " [ 12.  52.  38.]\n",
            " [-18. -51. -48.]]\n"
          ],
          "name": "stdout"
        }
      ]
    },
    {
      "cell_type": "markdown",
      "metadata": {
        "id": "jCcuTzjT4sl2"
      },
      "source": [
        "#[Problem 4] Creating a function that performs matrix multiplication"
      ]
    },
    {
      "cell_type": "code",
      "metadata": {
        "colab": {
          "base_uri": "https://localhost:8080/"
        },
        "id": "2eJX9Yuz7lnM",
        "outputId": "3bc600d5-9b40-42a1-88a2-09be75370d29"
      },
      "source": [
        "d_ndarray = np.array([[-1, 2, 3], [4, -5, 6]])\r\n",
        "e_ndarray = np.array([[-9, 8, 7], [6, -5, 4]])\r\n",
        "def matrixes_product(a, b):\r\n",
        "  size = len(a)\r\n",
        "  result = np.zeros((size, size))\r\n",
        "  for i in range(size):\r\n",
        "    for j in range(size):\r\n",
        "       for k in range(len(b)):\r\n",
        "           result[i][j] += a[i][k] * b[k][j]\r\n",
        "  return result\r\n",
        "print(\"Product of d_ndarray and e_ndarray:\\n{}\".format(matrixes_product(d_ndarray, e_ndarray)))"
      ],
      "execution_count": 7,
      "outputs": [
        {
          "output_type": "stream",
          "text": [
            "Product of d_ndarray and e_ndarray:\n",
            "[[ 21. -18.]\n",
            " [-66.  57.]]\n"
          ],
          "name": "stdout"
        }
      ]
    },
    {
      "cell_type": "markdown",
      "metadata": {
        "id": "jst6QWMs4u4_"
      },
      "source": [
        "#[Problem 5] Judge the input whose calculation is not defined"
      ]
    },
    {
      "cell_type": "code",
      "metadata": {
        "colab": {
          "base_uri": "https://localhost:8080/"
        },
        "id": "brgX4UbbDiB-",
        "outputId": "2f19dbe7-3c51-4e6f-cd8d-1dfdd30b9e47"
      },
      "source": [
        "def matrixes_product_judge(a, b):\r\n",
        "  size = len(a)\r\n",
        "  if len(b[0]) != size:\r\n",
        "    print(\"Error, incompatible shapes\")\r\n",
        "    return\r\n",
        "  result = np.zeros((size, size))\r\n",
        "  for i in range(size):\r\n",
        "    for j in range(size):\r\n",
        "       for k in range(len(b)):\r\n",
        "           result[i][j] += a[i][k] * b[k][j]\r\n",
        "  return result\r\n",
        "print(\"Product of d_ndarray and e_ndarray:\\n\")\r\n",
        "matrixes_product_judge(d_ndarray, e_ndarray)"
      ],
      "execution_count": 8,
      "outputs": [
        {
          "output_type": "stream",
          "text": [
            "Product of d_ndarray and e_ndarray:\n",
            "\n",
            "Error, incompatible shapes\n"
          ],
          "name": "stdout"
        }
      ]
    },
    {
      "cell_type": "markdown",
      "metadata": {
        "id": "BufRNWEt4xQu"
      },
      "source": [
        "#[Problem 6] Transposition"
      ]
    },
    {
      "cell_type": "code",
      "metadata": {
        "id": "EfjC7Glw3gfe",
        "colab": {
          "base_uri": "https://localhost:8080/"
        },
        "outputId": "2d99579c-24fc-4906-9f0c-1afb87605af2"
      },
      "source": [
        "print(\"Product of d_ndarray and e_ndarray:\\n{}\".format(matrixes_product_judge(d_ndarray, e_ndarray.T)))\r\n"
      ],
      "execution_count": 9,
      "outputs": [
        {
          "output_type": "stream",
          "text": [
            "Product of d_ndarray and e_ndarray:\n",
            "[[ 46.  -4.]\n",
            " [-34.  73.]]\n"
          ],
          "name": "stdout"
        }
      ]
    }
  ]
}