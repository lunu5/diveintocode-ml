{
  "nbformat": 4,
  "nbformat_minor": 0,
  "metadata": {
    "colab": {
      "name": "Diffractions_to_cross_MtFuji.ipynb",
      "provenance": [],
      "authorship_tag": "ABX9TyPgZPuhJNGd5j5a5+mMqv/o",
      "include_colab_link": true
    },
    "kernelspec": {
      "name": "python3",
      "display_name": "Python 3"
    }
  },
  "cells": [
    {
      "cell_type": "markdown",
      "metadata": {
        "id": "view-in-github",
        "colab_type": "text"
      },
      "source": [
        "<a href=\"https://colab.research.google.com/github/lunu5/diveintocode-ml/blob/master/Diffractions_to_cross_MtFuji.ipynb\" target=\"_parent\"><img src=\"https://colab.research.google.com/assets/colab-badge.svg\" alt=\"Open In Colab\"/></a>"
      ]
    },
    {
      "cell_type": "markdown",
      "metadata": {
        "id": "VupP1fn1Wi52"
      },
      "source": [
        "#[Problem 1] Minimum number of folds over Mt. Fuji"
      ]
    },
    {
      "cell_type": "code",
      "metadata": {
        "id": "tPkXmJAEZ8Mk"
      },
      "source": [
        "import math\r\n",
        "MT_FUGI_HEIGHT = 3776 # (m)\r\n",
        "PAPER_THICKNESS = 0.00008 # (m)"
      ],
      "execution_count": 1,
      "outputs": []
    },
    {
      "cell_type": "code",
      "metadata": {
        "id": "KESVwraSVUIG"
      },
      "source": [
        "def folds_needed_to_exceed(height = 1000):\r\n",
        "    \"\"\"\r\n",
        "    A function that find how many folds of paper to exceed the input height\r\n",
        "    Parameteres\r\n",
        "    --------------\r\n",
        "    height: int\r\n",
        "        Height to compare (default : 1000 m)\r\n",
        "    Returns\r\n",
        "    --------------\r\n",
        "    Number of folds required\r\n",
        "    \"\"\"\r\n",
        "    return math.ceil(math.log2(height))"
      ],
      "execution_count": 2,
      "outputs": []
    },
    {
      "cell_type": "markdown",
      "metadata": {
        "id": "rGWQrAiFfIN6"
      },
      "source": [
        "Result:"
      ]
    },
    {
      "cell_type": "code",
      "metadata": {
        "id": "VOjEr0a4fMm_",
        "colab": {
          "base_uri": "https://localhost:8080/"
        },
        "outputId": "d5f107bf-77b3-4458-9e73-a604c4ab34f7"
      },
      "source": [
        "print(\"The paper need to be folded {} times to exceed {} m\".format(folds_needed_to_exceed(MT_FUGI_HEIGHT), MT_FUGI_HEIGHT))"
      ],
      "execution_count": 3,
      "outputs": [
        {
          "output_type": "stream",
          "text": [
            "The paper need to be folded 12 times to exceed 3776 m\n"
          ],
          "name": "stdout"
        }
      ]
    },
    {
      "cell_type": "markdown",
      "metadata": {
        "id": "VtJhHn57qPxk"
      },
      "source": [
        "#[Problem 2] Creating a function corresponding to an arbitrary thickness"
      ]
    },
    {
      "cell_type": "code",
      "metadata": {
        "id": "VwiYkxvOqSqd"
      },
      "source": [
        "DISTANCE_TO_CLOSEST_NON_SUN_STAR = 40208000000000000 # (m) Distance to Proxima Centauri given at https://imagine.gsfc.nasa.gov/features/cosmic/nearest_star_info.html\r\n",
        "paper_thickness = 0.0001 # (m)\r\n",
        "def folds_needed_to_reach(thickness = 0.00008, height = 1000):\r\n",
        "    \"\"\"\r\n",
        "    A function that find how many folds of paper to exceed the input height from the input thickness\r\n",
        "    Parameteres\r\n",
        "    --------------\r\n",
        "    thickness: float\r\n",
        "        Origin thickness of paper (default : 0.00008 m)\r\n",
        "    height: int\r\n",
        "        Height to compare (default : 1000 m)\r\n",
        "\r\n",
        "    Returns\r\n",
        "    --------------\r\n",
        "    Number of folds required\r\n",
        "    \"\"\"\r\n",
        "    return math.ceil(math.log2(height))"
      ],
      "execution_count": 4,
      "outputs": []
    },
    {
      "cell_type": "markdown",
      "metadata": {
        "id": "0AcefSfMskWY"
      },
      "source": [
        "Result:"
      ]
    },
    {
      "cell_type": "code",
      "metadata": {
        "colab": {
          "base_uri": "https://localhost:8080/"
        },
        "id": "IEflPsT3smq8",
        "outputId": "3655d671-dc60-4545-9d06-381e90d21036"
      },
      "source": [
        "print(\"The paper, which is {} m thick, need to be folded {} times to reach {} m\".format(paper_thickness, folds_needed_to_reach(paper_thickness, DISTANCE_TO_CLOSEST_NON_SUN_STAR), DISTANCE_TO_CLOSEST_NON_SUN_STAR))"
      ],
      "execution_count": 5,
      "outputs": [
        {
          "output_type": "stream",
          "text": [
            "The paper, which is 0.0001 m thick, need to be folded 56 times to reach 40208000000000000 m\n"
          ],
          "name": "stdout"
        }
      ]
    },
    {
      "cell_type": "markdown",
      "metadata": {
        "id": "Re21H36IuwOX"
      },
      "source": [
        "#[Problem 3] Required paper length"
      ]
    },
    {
      "cell_type": "code",
      "metadata": {
        "id": "ppYpN9XZuzBf"
      },
      "source": [
        "DISTANCE_TO_MOON = 384400000 # (m)\r\n",
        "paper_thickness2 = 0.0005 # (m)\r\n",
        "def paper_length(thickness = 0.00008, distance = 1000):\r\n",
        "    \"\"\"\r\n",
        "    A function that calculate the length of paper needed to reach the input distance from the input thickness\r\n",
        "    Parameteres\r\n",
        "    --------------\r\n",
        "    thickness: float\r\n",
        "        Origin thickness of paper (default : 0.00008 m)\r\n",
        "    distance: int\r\n",
        "        Distance to compare (default : 1000 m)\r\n",
        "        \r\n",
        "    Returns\r\n",
        "    --------------\r\n",
        "    Length of the required paper in m\r\n",
        "    \"\"\" \r\n",
        "    folds = folds_needed_to_reach(thickness, distance)\r\n",
        "    return math.pi*thickness*(2**folds + 4)*(2**folds - 1)/6"
      ],
      "execution_count": 6,
      "outputs": []
    },
    {
      "cell_type": "markdown",
      "metadata": {
        "id": "0SBtWouSzLba"
      },
      "source": [
        "Result:"
      ]
    },
    {
      "cell_type": "code",
      "metadata": {
        "colab": {
          "base_uri": "https://localhost:8080/"
        },
        "id": "Pbk5Z_SszNbN",
        "outputId": "28f57956-aaa6-47b5-f4af-857bd0c1d1d7"
      },
      "source": [
        "print(\"Length of paper, which is {} m thick, needed to reach the Moon: {} m\".format(paper_thickness2, paper_length(paper_thickness2, DISTANCE_TO_MOON)))\r\n",
        "print(\"Length of paper, which is {} m thick, needed to reach Mt.Fuji: {} m\".format(paper_thickness2, paper_length(paper_thickness2, MT_FUGI_HEIGHT)))\r\n",
        "print(\"Length of paper, which is {} m thick, needed to reach the star closest to the Sun: {} m\".format(paper_thickness2, paper_length(paper_thickness2, DISTANCE_TO_CLOSEST_NON_SUN_STAR)))"
      ],
      "execution_count": 7,
      "outputs": [
        {
          "output_type": "stream",
          "text": [
            "Length of paper, which is 0.0005 m thick, needed to reach the Moon: 75458536443294.12 m\n",
            "Length of paper, which is 0.0005 m thick, needed to reach Mt.Fuji: 4395.48082145382 m\n",
            "Length of paper, which is 0.0005 m thick, needed to reach the star closest to the Sun: 1.3593401388358648e+30 m\n"
          ],
          "name": "stdout"
        }
      ]
    }
  ]
}